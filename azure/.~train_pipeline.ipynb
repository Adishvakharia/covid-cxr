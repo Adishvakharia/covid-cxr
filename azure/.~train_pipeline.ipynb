{
 "cells": [
  {
   "cell_type": "markdown",
   "metadata": {},
   "source": [
    "# Azure ML Training Pipeline for COVID-CXR\n",
    "This notebook defines an Azure machine learning pipeline for a single training run and submits the pipeline as an experiment to be run on an Azure virtual machine."
   ]
  },
  {
   "cell_type": "code",
   "execution_count": 6,
   "metadata": {},
   "outputs": [],
   "source": [
    "# Import statements\n",
    "import azureml.core\n",
    "from azureml.core import Experiment\n",
    "from azureml.core import Workspace, Datastore\n",
    "from azureml.data.data_reference import DataReference\n",
    "from azureml.pipeline.core import PipelineData\n",
    "from azureml.pipeline.core import Pipeline\n",
    "from azureml.pipeline.steps import PythonScriptStep, EstimatorStep\n",
    "from azureml.train.dnn import TensorFlow\n",
    "from azureml.train.estimator import Estimator\n",
    "from azureml.core.compute import ComputeTarget, AmlCompute\n",
    "from azureml.core.compute_target import ComputeTargetException\n",
    "from azureml.core.environment import Environment\n",
    "from azureml.core.runconfig import RunConfiguration\n",
    "import shutil"
   ]
  },
  {
   "cell_type": "markdown",
   "metadata": {},
   "source": [
    "### Register the workspace and configure its Python environment."
   ]
  },
  {
   "cell_type": "code",
   "execution_count": 7,
   "metadata": {},
   "outputs": [
    {
     "name": "stdout",
     "output_type": "stream",
     "text": [
      "# Conda environment specification. The dependencies defined in this file will\r\n",
      "# be automatically provisioned for runs with userManagedDependencies=False.\r\n",
      "\n",
      "# Details about the Conda environment file format:\r\n",
      "# https://conda.io/docs/user-guide/tasks/manage-environments.html#create-env-file-manually\r\n",
      "\n",
      "name: project_environment\n",
      "dependencies:\n",
      "  # The python interpreter version.\r\n",
      "  # Currently Azure ML only supports 3.5.2 and later.\r\n",
      "- python=3.6.2\n",
      "\n",
      "- pip:\n",
      "  - pyyaml==5.2\n",
      "  - matplotlib==3.1.1\n",
      "  - tqdm==4.40.2\n",
      "  - opencv_python==4.1.0.25\n",
      "  - tensorflow_gpu==2.0.1\n",
      "  - dill==0.3.0\n",
      "  - scikit_image==0.15.0\n",
      "  - numpy==1.17.4\n",
      "  - pandas==0.25.3\n",
      "  - pydicom==1.4.2\n",
      "  - imbalanced_learn==0.6.1\n",
      "  - tensorboard==2.0.2\n",
      "  - lime==0.1.1.37\n",
      "channels:\n",
      "- anaconda\n",
      "- conda-forge\n",
      "\n"
     ]
    }
   ],
   "source": [
    "# Get reference to the workspace\n",
    "ws = Workspace.from_config(\"./ws_config.json\")\n",
    "\n",
    "# Set workspace's environment\n",
    "env = Environment.from_pip_requirements(name = \"covid-cxr_env\", file_path = \"./../requirements.txt\")\n",
    "env.register(workspace=ws)\n",
    "runconfig = RunConfiguration(conda_dependencies=env.python.conda_dependencies)\n",
    "print(env.python.conda_dependencies.serialize_to_string())\n",
    "\n",
    "# Move AML ignore file to root folder\n",
    "aml_ignore_path = shutil.copy('./.amlignore', './../.amlignore') "
   ]
  },
  {
   "cell_type": "markdown",
   "metadata": {},
   "source": [
    "### Create references to persistent and intermediate data\n",
    "Create DataReference objects that point to our raw data on the blob. Configure a PipelineData object to point to preprocessed images stored on the blob."
   ]
  },
  {
   "cell_type": "code",
   "execution_count": 8,
   "metadata": {},
   "outputs": [],
   "source": [
    "# Get the blob datastore associated with this workspace\n",
    "blob_store = Datastore(ws, name='covid_cxr_ds')\n",
    "\n",
    "# Create data references to folders on the blob\n",
    "mila_data_dr = DataReference(\n",
    "    datastore=blob_store,\n",
    "    data_reference_name=\"mila_data\",\n",
    "    path_on_datastore=\"data/covid-chestxray-dataset/\")\n",
    "fig1_data_dr = DataReference(\n",
    "    datastore=blob_store,\n",
    "    data_reference_name=\"fig1_data\",\n",
    "    path_on_datastore=\"data/Figure1-COVID-chestxray-dataset/\")\n",
    "rsna_data_dr = DataReference(\n",
    "    datastore=blob_store,\n",
    "    data_reference_name=\"rsna_data\",\n",
    "    path_on_datastore=\"data/rsna/\")\n",
    "training_logs_dr = DataReference(\n",
    "    datastore=blob_store,\n",
    "    data_reference_name=\"training_logs_data\",\n",
    "    path_on_datastore=\"logs/training/\")\n",
    "models_dr = DataReference(\n",
    "    datastore=blob_store,\n",
    "    data_reference_name=\"models_data\",\n",
    "    path_on_datastore=\"models/\")\n",
    "\n",
    "# Set up references to pipeline data (intermediate pipeline storage).\n",
    "processed_pd = PipelineData(\n",
    "    \"processed_data\",\n",
    "    datastore=blob_store,\n",
    "    output_name=\"processed_data\",\n",
    "    output_mode=\"mount\")"
   ]
  },
  {
   "cell_type": "markdown",
   "metadata": {},
   "source": [
    "### Compute Target\n",
    "Specify and configure the compute target for this workspace. If a compute cluster by the name we specified does not exist, create a new compute cluster."
   ]
  },
  {
   "cell_type": "code",
   "execution_count": 9,
   "metadata": {},
   "outputs": [
    {
     "name": "stdout",
     "output_type": "stream",
     "text": [
      "Found existing compute target.\n",
      "Azure Machine Learning Compute attached\n",
      "Compute targets:  {'nd12s-clust': AmlCompute(workspace=Workspace.create(name='covid-cxr-ws', subscription_id='4d8a1c27-3a23-4f81-8fec-5b598044652e', resource_group='covid-cxr-rg'), name=nd12s-clust, id=/subscriptions/4d8a1c27-3a23-4f81-8fec-5b598044652e/resourceGroups/covid-cxr-rg/providers/Microsoft.MachineLearningServices/workspaces/covid-cxr-ws/computes/nd12s-clust, type=AmlCompute, provisioning_state=Failed, location=eastus, tags=None)}\n"
     ]
    }
   ],
   "source": [
    "CT_NAME = \"nd12s-clust\"         # Name of our compute cluster\n",
    "VM_SIZE = \"STANDARD_ND12S\"      # Specify the Azure VM for execution of our pipeline\n",
    "\n",
    "# Set up the compute target for this experiment\n",
    "try:\n",
    "    compute_target = AmlCompute(ws, CT_NAME)\n",
    "    print(\"Found existing compute target.\")\n",
    "except ComputeTargetException:\n",
    "    print(\"Creating new compute target\")\n",
    "    provisioning_config = AmlCompute.provisioning_configuration(vm_size = VM_SIZE,\n",
    "                                                                max_nodes = 4)    \n",
    "    compute_target = ComputeTarget.create(ws, CT_NAME, provisioning_config)  # Create the compute cluster\n",
    "    \n",
    "    # Wait for cluster to be provisioned\n",
    "    compute_target.wait_for_completion(show_output=True, min_node_count=None, timeout_in_minutes=20) \n",
    "    \n",
    "print(\"Azure Machine Learning Compute attached\")\n",
    "print(\"Compute targets: \", ws.compute_targets)\n",
    "compute_target = ws.compute_targets[CT_NAME]"
   ]
  },
  {
   "cell_type": "markdown",
   "metadata": {},
   "source": [
    "### Define pipeline and submit experiment.\n",
    "Define the steps of an Azure machine learning pipeline. Create an Azure Experiment that will run our pipeline. Submit the experiment to the execution environment."
   ]
  },
  {
   "cell_type": "code",
   "execution_count": 10,
   "metadata": {},
   "outputs": [
    {
     "name": "stdout",
     "output_type": "stream",
     "text": [
      "Step preprocess_step is ready to be created [0e61c112]\n",
      "Step estimator_train_step is ready to be created [d437ce8a]\n",
      "Data reference raw_covid_data is ready to be created [a5ad5ad0], (Consumers of this data will generate new runs.)\n",
      "Data reference raw_rsna_data is ready to be created [ed650778], (Consumers of this data will generate new runs.)\n",
      "Data reference training_logs_data is ready to be created [9cb5ac9a], (Consumers of this data will generate new runs.)\n",
      "Data reference models_data is ready to be created [0049f6d7], (Consumers of this data will generate new runs.)\n",
      "Created step preprocess_step [0e61c112][b445f9d7-dd35-4888-9915-090ffe119620], (This step will run and generate new outputs)\n",
      "Created step estimator_train_step [d437ce8a][202f9132-b74b-4775-9a0f-2e724b60b922], (This step will run and generate new outputs)\n"
     ]
    },
    {
     "ename": "KeyboardInterrupt",
     "evalue": "",
     "output_type": "error",
     "traceback": [
      "\u001b[1;31m---------------------------------------------------------------------------\u001b[0m",
      "\u001b[1;31mKeyboardInterrupt\u001b[0m                         Traceback (most recent call last)",
      "\u001b[1;32m<ipython-input-10-8e9c2ecc2384>\u001b[0m in \u001b[0;36m<module>\u001b[1;34m\u001b[0m\n\u001b[0;32m     36\u001b[0m \u001b[1;31m# Define a new experiment and submit a new pipeline run to the compute target.\u001b[0m\u001b[1;33m\u001b[0m\u001b[1;33m\u001b[0m\u001b[1;33m\u001b[0m\u001b[0m\n\u001b[0;32m     37\u001b[0m \u001b[0mexperiment\u001b[0m \u001b[1;33m=\u001b[0m \u001b[0mExperiment\u001b[0m\u001b[1;33m(\u001b[0m\u001b[0mworkspace\u001b[0m\u001b[1;33m=\u001b[0m\u001b[0mws\u001b[0m\u001b[1;33m,\u001b[0m \u001b[0mname\u001b[0m\u001b[1;33m=\u001b[0m\u001b[1;34m'SingleTrainExperiment_v2'\u001b[0m\u001b[1;33m)\u001b[0m\u001b[1;33m\u001b[0m\u001b[1;33m\u001b[0m\u001b[0m\n\u001b[1;32m---> 38\u001b[1;33m \u001b[0mexperiment\u001b[0m\u001b[1;33m.\u001b[0m\u001b[0msubmit\u001b[0m\u001b[1;33m(\u001b[0m\u001b[0msingle_train_pipeline\u001b[0m\u001b[1;33m,\u001b[0m \u001b[0mregenerate_outputs\u001b[0m\u001b[1;33m=\u001b[0m\u001b[1;32mFalse\u001b[0m\u001b[1;33m)\u001b[0m\u001b[1;33m\u001b[0m\u001b[1;33m\u001b[0m\u001b[0m\n\u001b[0m\u001b[0;32m     39\u001b[0m \u001b[0mprint\u001b[0m\u001b[1;33m(\u001b[0m\u001b[1;34m\"Pipeline is submitted for execution\"\u001b[0m\u001b[1;33m)\u001b[0m\u001b[1;33m\u001b[0m\u001b[1;33m\u001b[0m\u001b[0m\n\u001b[0;32m     40\u001b[0m \u001b[1;33m\u001b[0m\u001b[0m\n",
      "\u001b[1;32m~\\Anaconda3\\lib\\site-packages\\azureml\\core\\experiment.py\u001b[0m in \u001b[0;36msubmit\u001b[1;34m(self, config, tags, **kwargs)\u001b[0m\n\u001b[0;32m    200\u001b[0m         \u001b[0msubmit_func\u001b[0m \u001b[1;33m=\u001b[0m \u001b[0mget_experiment_submit\u001b[0m\u001b[1;33m(\u001b[0m\u001b[0mconfig\u001b[0m\u001b[1;33m)\u001b[0m\u001b[1;33m\u001b[0m\u001b[1;33m\u001b[0m\u001b[0m\n\u001b[0;32m    201\u001b[0m         \u001b[1;32mwith\u001b[0m \u001b[0mself\u001b[0m\u001b[1;33m.\u001b[0m\u001b[0m_log_context\u001b[0m\u001b[1;33m(\u001b[0m\u001b[1;34m\"submit config {}\"\u001b[0m\u001b[1;33m.\u001b[0m\u001b[0mformat\u001b[0m\u001b[1;33m(\u001b[0m\u001b[0mconfig\u001b[0m\u001b[1;33m.\u001b[0m\u001b[0m__class__\u001b[0m\u001b[1;33m.\u001b[0m\u001b[0m__name__\u001b[0m\u001b[1;33m)\u001b[0m\u001b[1;33m)\u001b[0m\u001b[1;33m:\u001b[0m\u001b[1;33m\u001b[0m\u001b[1;33m\u001b[0m\u001b[0m\n\u001b[1;32m--> 202\u001b[1;33m             \u001b[0mrun\u001b[0m \u001b[1;33m=\u001b[0m \u001b[0msubmit_func\u001b[0m\u001b[1;33m(\u001b[0m\u001b[0mconfig\u001b[0m\u001b[1;33m,\u001b[0m \u001b[0mself\u001b[0m\u001b[1;33m.\u001b[0m\u001b[0mworkspace\u001b[0m\u001b[1;33m,\u001b[0m \u001b[0mself\u001b[0m\u001b[1;33m.\u001b[0m\u001b[0mname\u001b[0m\u001b[1;33m,\u001b[0m \u001b[1;33m**\u001b[0m\u001b[0mkwargs\u001b[0m\u001b[1;33m)\u001b[0m\u001b[1;33m\u001b[0m\u001b[1;33m\u001b[0m\u001b[0m\n\u001b[0m\u001b[0;32m    203\u001b[0m         \u001b[1;32mif\u001b[0m \u001b[0mtags\u001b[0m \u001b[1;32mis\u001b[0m \u001b[1;32mnot\u001b[0m \u001b[1;32mNone\u001b[0m\u001b[1;33m:\u001b[0m\u001b[1;33m\u001b[0m\u001b[1;33m\u001b[0m\u001b[0m\n\u001b[0;32m    204\u001b[0m             \u001b[0mrun\u001b[0m\u001b[1;33m.\u001b[0m\u001b[0mset_tags\u001b[0m\u001b[1;33m(\u001b[0m\u001b[0mtags\u001b[0m\u001b[1;33m)\u001b[0m\u001b[1;33m\u001b[0m\u001b[1;33m\u001b[0m\u001b[0m\n",
      "\u001b[1;32m~\\Anaconda3\\lib\\site-packages\\azureml\\pipeline\\core\\pipeline.py\u001b[0m in \u001b[0;36m_submit_pipeline\u001b[1;34m(pipeline, workspace, experiment_name, **kwargs)\u001b[0m\n\u001b[0;32m     49\u001b[0m                            \u001b[0mcontinue_on_step_failure\u001b[0m\u001b[1;33m=\u001b[0m\u001b[0mcontinue_on_step_failure\u001b[0m\u001b[1;33m,\u001b[0m\u001b[1;33m\u001b[0m\u001b[1;33m\u001b[0m\u001b[0m\n\u001b[0;32m     50\u001b[0m                            \u001b[0mregenerate_outputs\u001b[0m\u001b[1;33m=\u001b[0m\u001b[0mregenerate_outputs\u001b[0m\u001b[1;33m,\u001b[0m \u001b[0mparent_run_id\u001b[0m\u001b[1;33m=\u001b[0m\u001b[0mparent_run_id\u001b[0m\u001b[1;33m,\u001b[0m\u001b[1;33m\u001b[0m\u001b[1;33m\u001b[0m\u001b[0m\n\u001b[1;32m---> 51\u001b[1;33m                            enable_email_notification=enable_email_notification)\n\u001b[0m\u001b[0;32m     52\u001b[0m \u001b[1;33m\u001b[0m\u001b[0m\n\u001b[0;32m     53\u001b[0m \u001b[1;33m\u001b[0m\u001b[0m\n",
      "\u001b[1;32m~\\Anaconda3\\lib\\site-packages\\azureml\\pipeline\\core\\pipeline.py\u001b[0m in \u001b[0;36msubmit\u001b[1;34m(self, experiment_name, pipeline_parameters, continue_on_step_failure, regenerate_outputs, parent_run_id, **kwargs)\u001b[0m\n\u001b[0;32m    279\u001b[0m             \u001b[0mpipeline_parameters\u001b[0m\u001b[1;33m=\u001b[0m\u001b[0mpipeline_parameters\u001b[0m\u001b[1;33m,\u001b[0m \u001b[0mcontinue_on_step_failure\u001b[0m\u001b[1;33m=\u001b[0m\u001b[0mcontinue_on_step_failure\u001b[0m\u001b[1;33m,\u001b[0m\u001b[1;33m\u001b[0m\u001b[1;33m\u001b[0m\u001b[0m\n\u001b[0;32m    280\u001b[0m             \u001b[0mregenerate_outputs\u001b[0m\u001b[1;33m=\u001b[0m\u001b[0mregenerate_outputs\u001b[0m\u001b[1;33m,\u001b[0m \u001b[0mparent_run_id\u001b[0m\u001b[1;33m=\u001b[0m\u001b[0mparent_run_id\u001b[0m\u001b[1;33m,\u001b[0m\u001b[1;33m\u001b[0m\u001b[1;33m\u001b[0m\u001b[0m\n\u001b[1;32m--> 281\u001b[1;33m             enable_email_notification=enable_email_notification)\n\u001b[0m\u001b[0;32m    282\u001b[0m \u001b[1;33m\u001b[0m\u001b[0m\n\u001b[0;32m    283\u001b[0m     \u001b[1;32mdef\u001b[0m \u001b[0mpublish\u001b[0m\u001b[1;33m(\u001b[0m\u001b[0mself\u001b[0m\u001b[1;33m,\u001b[0m \u001b[0mname\u001b[0m\u001b[1;33m=\u001b[0m\u001b[1;32mNone\u001b[0m\u001b[1;33m,\u001b[0m \u001b[0mdescription\u001b[0m\u001b[1;33m=\u001b[0m\u001b[1;32mNone\u001b[0m\u001b[1;33m,\u001b[0m \u001b[0mversion\u001b[0m\u001b[1;33m=\u001b[0m\u001b[1;32mNone\u001b[0m\u001b[1;33m,\u001b[0m \u001b[0mcontinue_on_step_failure\u001b[0m\u001b[1;33m=\u001b[0m\u001b[1;32mNone\u001b[0m\u001b[1;33m)\u001b[0m\u001b[1;33m:\u001b[0m\u001b[1;33m\u001b[0m\u001b[1;33m\u001b[0m\u001b[0m\n",
      "\u001b[1;32m~\\Anaconda3\\lib\\site-packages\\azureml\\pipeline\\core\\graph.py\u001b[0m in \u001b[0;36msubmit\u001b[1;34m(self, pipeline_parameters, continue_on_step_failure, regenerate_outputs, parent_run_id, **kwargs)\u001b[0m\n\u001b[0;32m   3534\u001b[0m         \u001b[1;33m:\u001b[0m\u001b[0mrtype\u001b[0m\u001b[1;33m:\u001b[0m \u001b[0mazureml\u001b[0m\u001b[1;33m.\u001b[0m\u001b[0mpipeline\u001b[0m\u001b[1;33m.\u001b[0m\u001b[0mcore\u001b[0m\u001b[1;33m.\u001b[0m\u001b[0mPipelineRun\u001b[0m\u001b[1;33m\u001b[0m\u001b[1;33m\u001b[0m\u001b[0m\n\u001b[0;32m   3535\u001b[0m         \"\"\"\n\u001b[1;32m-> 3536\u001b[1;33m         \u001b[0mself\u001b[0m\u001b[1;33m.\u001b[0m\u001b[0m_validate_and_finalize\u001b[0m\u001b[1;33m(\u001b[0m\u001b[0mpipeline_parameters\u001b[0m\u001b[1;33m=\u001b[0m\u001b[0mpipeline_parameters\u001b[0m\u001b[1;33m,\u001b[0m \u001b[0mregenerate_outputs\u001b[0m\u001b[1;33m=\u001b[0m\u001b[0mregenerate_outputs\u001b[0m\u001b[1;33m)\u001b[0m\u001b[1;33m\u001b[0m\u001b[1;33m\u001b[0m\u001b[0m\n\u001b[0m\u001b[0;32m   3537\u001b[0m         \u001b[0menable_email_notification\u001b[0m \u001b[1;33m=\u001b[0m \u001b[1;32mNone\u001b[0m\u001b[1;33m\u001b[0m\u001b[1;33m\u001b[0m\u001b[0m\n\u001b[0;32m   3538\u001b[0m         \u001b[1;32mfor\u001b[0m \u001b[0mkey\u001b[0m\u001b[1;33m,\u001b[0m \u001b[0mvalue\u001b[0m \u001b[1;32min\u001b[0m \u001b[0mkwargs\u001b[0m\u001b[1;33m.\u001b[0m\u001b[0mitems\u001b[0m\u001b[1;33m(\u001b[0m\u001b[1;33m)\u001b[0m\u001b[1;33m:\u001b[0m\u001b[1;33m\u001b[0m\u001b[1;33m\u001b[0m\u001b[0m\n",
      "\u001b[1;32m~\\Anaconda3\\lib\\site-packages\\azureml\\pipeline\\core\\graph.py\u001b[0m in \u001b[0;36m_validate_and_finalize\u001b[1;34m(self, pipeline_parameters, regenerate_outputs)\u001b[0m\n\u001b[0;32m   3615\u001b[0m \u001b[1;33m\u001b[0m\u001b[0m\n\u001b[0;32m   3616\u001b[0m         \u001b[1;32mif\u001b[0m \u001b[1;32mnot\u001b[0m \u001b[0mself\u001b[0m\u001b[1;33m.\u001b[0m\u001b[0m_finalized\u001b[0m \u001b[1;32mor\u001b[0m \u001b[0mregenerate_outputs\u001b[0m\u001b[1;33m:\u001b[0m\u001b[1;33m\u001b[0m\u001b[1;33m\u001b[0m\u001b[0m\n\u001b[1;32m-> 3617\u001b[1;33m             \u001b[0mself\u001b[0m\u001b[1;33m.\u001b[0m\u001b[0mfinalize\u001b[0m\u001b[1;33m(\u001b[0m\u001b[0mdry_run\u001b[0m\u001b[1;33m=\u001b[0m\u001b[1;32mFalse\u001b[0m\u001b[1;33m,\u001b[0m \u001b[0mregenerate_outputs\u001b[0m\u001b[1;33m=\u001b[0m\u001b[0mregenerate_outputs\u001b[0m\u001b[1;33m)\u001b[0m\u001b[1;33m\u001b[0m\u001b[1;33m\u001b[0m\u001b[0m\n\u001b[0m\u001b[0;32m   3618\u001b[0m \u001b[1;33m\u001b[0m\u001b[0m\n\u001b[0;32m   3619\u001b[0m     \u001b[1;32mdef\u001b[0m \u001b[0m_generate_node_id\u001b[0m\u001b[1;33m(\u001b[0m\u001b[0mself\u001b[0m\u001b[1;33m)\u001b[0m\u001b[1;33m:\u001b[0m\u001b[1;33m\u001b[0m\u001b[1;33m\u001b[0m\u001b[0m\n",
      "\u001b[1;32m~\\Anaconda3\\lib\\site-packages\\azureml\\pipeline\\core\\graph.py\u001b[0m in \u001b[0;36mfinalize\u001b[1;34m(self, dry_run, regenerate_outputs)\u001b[0m\n\u001b[0;32m   3461\u001b[0m         \u001b[1;32mwith\u001b[0m \u001b[0mThreadPoolExecutor\u001b[0m\u001b[1;33m(\u001b[0m\u001b[0mmax_workers\u001b[0m\u001b[1;33m=\u001b[0m\u001b[1;36m10\u001b[0m\u001b[1;33m)\u001b[0m \u001b[1;32mas\u001b[0m \u001b[0mpool\u001b[0m\u001b[1;33m:\u001b[0m\u001b[1;33m\u001b[0m\u001b[1;33m\u001b[0m\u001b[0m\n\u001b[0;32m   3462\u001b[0m             (done, not_done) = wait([pool.submit(get_or_create_datasource_for_fingerprint, fingerprint) for fingerprint\n\u001b[1;32m-> 3463\u001b[1;33m                                      in datasource_fingerprints], return_when=ALL_COMPLETED)\n\u001b[0m\u001b[0;32m   3464\u001b[0m             \u001b[0mGraph\u001b[0m\u001b[1;33m.\u001b[0m\u001b[0m_check_threadpool_exceptions\u001b[0m\u001b[1;33m(\u001b[0m\u001b[0mdone\u001b[0m\u001b[1;33m,\u001b[0m \u001b[0mnot_done\u001b[0m\u001b[1;33m)\u001b[0m\u001b[1;33m\u001b[0m\u001b[1;33m\u001b[0m\u001b[0m\n\u001b[0;32m   3465\u001b[0m \u001b[1;33m\u001b[0m\u001b[0m\n",
      "\u001b[1;32m~\\Anaconda3\\lib\\concurrent\\futures\\_base.py\u001b[0m in \u001b[0;36mwait\u001b[1;34m(fs, timeout, return_when)\u001b[0m\n\u001b[0;32m    299\u001b[0m         \u001b[0mwaiter\u001b[0m \u001b[1;33m=\u001b[0m \u001b[0m_create_and_install_waiters\u001b[0m\u001b[1;33m(\u001b[0m\u001b[0mfs\u001b[0m\u001b[1;33m,\u001b[0m \u001b[0mreturn_when\u001b[0m\u001b[1;33m)\u001b[0m\u001b[1;33m\u001b[0m\u001b[1;33m\u001b[0m\u001b[0m\n\u001b[0;32m    300\u001b[0m \u001b[1;33m\u001b[0m\u001b[0m\n\u001b[1;32m--> 301\u001b[1;33m     \u001b[0mwaiter\u001b[0m\u001b[1;33m.\u001b[0m\u001b[0mevent\u001b[0m\u001b[1;33m.\u001b[0m\u001b[0mwait\u001b[0m\u001b[1;33m(\u001b[0m\u001b[0mtimeout\u001b[0m\u001b[1;33m)\u001b[0m\u001b[1;33m\u001b[0m\u001b[1;33m\u001b[0m\u001b[0m\n\u001b[0m\u001b[0;32m    302\u001b[0m     \u001b[1;32mfor\u001b[0m \u001b[0mf\u001b[0m \u001b[1;32min\u001b[0m \u001b[0mfs\u001b[0m\u001b[1;33m:\u001b[0m\u001b[1;33m\u001b[0m\u001b[1;33m\u001b[0m\u001b[0m\n\u001b[0;32m    303\u001b[0m         \u001b[1;32mwith\u001b[0m \u001b[0mf\u001b[0m\u001b[1;33m.\u001b[0m\u001b[0m_condition\u001b[0m\u001b[1;33m:\u001b[0m\u001b[1;33m\u001b[0m\u001b[1;33m\u001b[0m\u001b[0m\n",
      "\u001b[1;32m~\\Anaconda3\\lib\\threading.py\u001b[0m in \u001b[0;36mwait\u001b[1;34m(self, timeout)\u001b[0m\n\u001b[0;32m    550\u001b[0m             \u001b[0msignaled\u001b[0m \u001b[1;33m=\u001b[0m \u001b[0mself\u001b[0m\u001b[1;33m.\u001b[0m\u001b[0m_flag\u001b[0m\u001b[1;33m\u001b[0m\u001b[1;33m\u001b[0m\u001b[0m\n\u001b[0;32m    551\u001b[0m             \u001b[1;32mif\u001b[0m \u001b[1;32mnot\u001b[0m \u001b[0msignaled\u001b[0m\u001b[1;33m:\u001b[0m\u001b[1;33m\u001b[0m\u001b[1;33m\u001b[0m\u001b[0m\n\u001b[1;32m--> 552\u001b[1;33m                 \u001b[0msignaled\u001b[0m \u001b[1;33m=\u001b[0m \u001b[0mself\u001b[0m\u001b[1;33m.\u001b[0m\u001b[0m_cond\u001b[0m\u001b[1;33m.\u001b[0m\u001b[0mwait\u001b[0m\u001b[1;33m(\u001b[0m\u001b[0mtimeout\u001b[0m\u001b[1;33m)\u001b[0m\u001b[1;33m\u001b[0m\u001b[1;33m\u001b[0m\u001b[0m\n\u001b[0m\u001b[0;32m    553\u001b[0m             \u001b[1;32mreturn\u001b[0m \u001b[0msignaled\u001b[0m\u001b[1;33m\u001b[0m\u001b[1;33m\u001b[0m\u001b[0m\n\u001b[0;32m    554\u001b[0m \u001b[1;33m\u001b[0m\u001b[0m\n",
      "\u001b[1;32m~\\Anaconda3\\lib\\threading.py\u001b[0m in \u001b[0;36mwait\u001b[1;34m(self, timeout)\u001b[0m\n\u001b[0;32m    294\u001b[0m         \u001b[1;32mtry\u001b[0m\u001b[1;33m:\u001b[0m    \u001b[1;31m# restore state no matter what (e.g., KeyboardInterrupt)\u001b[0m\u001b[1;33m\u001b[0m\u001b[1;33m\u001b[0m\u001b[0m\n\u001b[0;32m    295\u001b[0m             \u001b[1;32mif\u001b[0m \u001b[0mtimeout\u001b[0m \u001b[1;32mis\u001b[0m \u001b[1;32mNone\u001b[0m\u001b[1;33m:\u001b[0m\u001b[1;33m\u001b[0m\u001b[1;33m\u001b[0m\u001b[0m\n\u001b[1;32m--> 296\u001b[1;33m                 \u001b[0mwaiter\u001b[0m\u001b[1;33m.\u001b[0m\u001b[0macquire\u001b[0m\u001b[1;33m(\u001b[0m\u001b[1;33m)\u001b[0m\u001b[1;33m\u001b[0m\u001b[1;33m\u001b[0m\u001b[0m\n\u001b[0m\u001b[0;32m    297\u001b[0m                 \u001b[0mgotit\u001b[0m \u001b[1;33m=\u001b[0m \u001b[1;32mTrue\u001b[0m\u001b[1;33m\u001b[0m\u001b[1;33m\u001b[0m\u001b[0m\n\u001b[0;32m    298\u001b[0m             \u001b[1;32melse\u001b[0m\u001b[1;33m:\u001b[0m\u001b[1;33m\u001b[0m\u001b[1;33m\u001b[0m\u001b[0m\n",
      "\u001b[1;31mKeyboardInterrupt\u001b[0m: "
     ]
    }
   ],
   "source": [
    "# Define preprocessing step the ML pipeline\n",
    "step1 = PythonScriptStep(name=\"preprocess_step\",\n",
    "                         script_name=\"azure/preprocess_step/preprocess_step.py\",\n",
    "                         arguments=[\"--miladatadir\", mila_data_dr, \"--fig1datadir\", fig1_data_dr, \n",
    "                                    \"--rsnadatadir\", rsna_data_dr, \"--preprocesseddir\", processed_pd],\n",
    "                         inputs=[covid_data_dr, rsna_data_dr],\n",
    "                         outputs=[processed_pd],\n",
    "                         compute_target=compute_target, \n",
    "                         source_directory=\"./../\",\n",
    "                         runconfig=runconfig,\n",
    "                         allow_reuse=True)\n",
    "\n",
    "# Define training step in the ML pipeline\n",
    "est = TensorFlow(source_directory='./../',\n",
    "                   script_params=None,\n",
    "                   compute_target=compute_target,\n",
    "                   entry_script='azure/train_step/train_step.py',\n",
    "                   pip_packages=['tensorboard', 'pandas', 'dill', 'numpy', 'imblearn', 'matplotlib', 'scikit-image', 'matplotlib',\n",
    "                                'pydicom', 'opencv-python', 'tqdm', 'scikit-learn'],\n",
    "                   use_gpu=True,\n",
    "                   framework_version='2.0')\n",
    "step2 = EstimatorStep(name=\"estimator_train_step\", \n",
    "                      estimator=est, \n",
    "                      estimator_entry_script_arguments=[\"--preprocesseddir\", processed_pd, \"--traininglogsdir\", training_logs_dr,\n",
    "                                                       \"--modelsdir\", models_dr],\n",
    "                      runconfig_pipeline_params=None, \n",
    "                      inputs=[processed_pd, training_logs_dr, models_dr], \n",
    "                      outputs=[], \n",
    "                      compute_target=compute_target)\n",
    "\n",
    "# Construct the ML pipeline from the steps\n",
    "steps = [step1, step2]\n",
    "single_train_pipeline = Pipeline(workspace=ws, steps=steps)\n",
    "single_train_pipeline.validate()\n",
    "\n",
    "# Define a new experiment and submit a new pipeline run to the compute target.\n",
    "experiment = Experiment(workspace=ws, name='SingleTrainExperiment_v2')\n",
    "experiment.submit(single_train_pipeline, regenerate_outputs=False)\n",
    "print(\"Pipeline is submitted for execution\")\n",
    "\n",
    "# Move AML ignore file back to original folder\n",
    "aml_ignore_path = shutil.move(aml_ignore_path, './.amlignore') "
   ]
  },
  {
   "cell_type": "code",
   "execution_count": null,
   "metadata": {},
   "outputs": [],
   "source": []
  }
 ],
 "metadata": {
  "kernelspec": {
   "display_name": "Python 3",
   "language": "python",
   "name": "python3"
  },
  "language_info": {
   "codemirror_mode": {
    "name": "ipython",
    "version": 3
   },
   "file_extension": ".py",
   "mimetype": "text/x-python",
   "name": "python",
   "nbconvert_exporter": "python",
   "pygments_lexer": "ipython3",
   "version": "3.7.3"
  }
 },
 "nbformat": 4,
 "nbformat_minor": 2
}
