{
 "cells": [
  {
   "cell_type": "markdown",
   "metadata": {},
   "source": [
    "# Azure ML Training Pipeline for COVID-CXR\n",
    "This notebook defines an Azure machine learning pipeline for a single training run and submits the pipeline as an experiment to be run on an Azure virtual machine."
   ]
  },
  {
   "cell_type": "code",
   "execution_count": 52,
   "metadata": {},
   "outputs": [],
   "source": [
    "# Import statements\n",
    "import azureml.core\n",
    "from azureml.core import Experiment\n",
    "from azureml.core import Workspace, Datastore\n",
    "from azureml.data.data_reference import DataReference\n",
    "from azureml.pipeline.core import PipelineData\n",
    "from azureml.pipeline.core import Pipeline\n",
    "from azureml.pipeline.steps import PythonScriptStep, EstimatorStep\n",
    "from azureml.train.dnn import TensorFlow\n",
    "from azureml.train.estimator import Estimator\n",
    "from azureml.core.compute import ComputeTarget, AmlCompute\n",
    "from azureml.core.compute_target import ComputeTargetException\n",
    "from azureml.core.environment import Environment\n",
    "from azureml.core.runconfig import RunConfiguration\n",
    "import shutil"
   ]
  },
  {
   "cell_type": "markdown",
   "metadata": {},
   "source": [
    "### Register the workspace and configure its Python environment."
   ]
  },
  {
   "cell_type": "code",
   "execution_count": 53,
   "metadata": {},
   "outputs": [
    {
     "name": "stdout",
     "output_type": "stream",
     "text": [
      "covid-cxr\n",
      "res_grp1\n",
      "canadacentral\n",
      "52f01a1a-c766-41a4-9062-a73cffbef727\n",
      "# Conda environment specification. The dependencies defined in this file will\n",
      "# be automatically provisioned for runs with userManagedDependencies=False.\n",
      "\n",
      "# Details about the Conda environment file format:\n",
      "# https://conda.io/docs/user-guide/tasks/manage-environments.html#create-env-file-manually\n",
      "\n",
      "name: project_environment\n",
      "dependencies:\n",
      "  # The python interpreter version.\n",
      "  # Currently Azure ML only supports 3.5.2 and later.\n",
      "- python=3.6.2\n",
      "\n",
      "- pip:\n",
      "  - pyyaml==5.2\n",
      "  - matplotlib==3.1.1\n",
      "  - tqdm==4.40.2\n",
      "  - opencv_python==4.1.0.25\n",
      "  - tensorflow_gpu==2.0.1\n",
      "  - dill==0.3.0\n",
      "  - scikit_image==0.15.0\n",
      "  - numpy==1.17.4\n",
      "  - pandas==0.25.3\n",
      "  - pydicom==1.4.2\n",
      "  - imbalanced_learn==0.6.1\n",
      "  - tensorboard==2.0.2\n",
      "  - lime==0.1.1.37\n",
      "channels:\n",
      "- anaconda\n",
      "- conda-forge\n",
      "\n"
     ]
    }
   ],
   "source": [
    "# Get reference to the workspace\n",
    "ws = Workspace.from_config(\"./ws_config.json\")\n",
    "print(ws.name, ws.resource_group, ws.location, ws.subscription_id, sep = '\\n')\n",
    "\n",
    "# Set workspace's environment\n",
    "env = Environment.from_pip_requirements(name = \"covid-cxr_env\", file_path = \"./../requirements.txt\")\n",
    "env.register(workspace=ws)\n",
    "runconfig = RunConfiguration(conda_dependencies=env.python.conda_dependencies)\n",
    "print(env.python.conda_dependencies.serialize_to_string())\n",
    "\n",
    "# Move AML ignore file to root folder\n",
    "aml_ignore_path = shutil.copy('./.amlignore', './../.amlignore') "
   ]
  },
  {
   "cell_type": "markdown",
   "metadata": {},
   "source": [
    "### Create references to persistent and intermediate data\n",
    "Create DataReference objects that point to our raw data on the blob. Configure a PipelineData object to point to preprocessed images stored on the blob."
   ]
  },
  {
   "cell_type": "code",
   "execution_count": 54,
   "metadata": {},
   "outputs": [],
   "source": [
    "# Get the blob datastore associated with this workspace\n",
    "blob_store = Datastore(ws, name='covidcxrdata0')\n",
    "\n",
    "# Create data references to folders on the blob\n",
    "covid_data_dr = DataReference(\n",
    "    datastore=blob_store,\n",
    "    data_reference_name=\"raw_covid_data\",\n",
    "    path_on_datastore=\"data/covid-chestxray-dataset/\")\n",
    "rsna_data_dr = DataReference(\n",
    "    datastore=blob_store,\n",
    "    data_reference_name=\"raw_rsna_data\",\n",
    "    path_on_datastore=\"data/rsna/\")\n",
    "training_logs_dr = DataReference(\n",
    "    datastore=blob_store,\n",
    "    data_reference_name=\"training_logs_data\",\n",
    "    path_on_datastore=\"logs/training/\")\n",
    "models_dr = DataReference(\n",
    "    datastore=blob_store,\n",
    "    data_reference_name=\"models_data\",\n",
    "    path_on_datastore=\"models/\")\n",
    "\n",
    "# Set up references to pipeline data (intermediate pipeline storage).\n",
    "processed_pd = PipelineData(\n",
    "    \"processed_data\",\n",
    "    datastore=blob_store,\n",
    "    output_name=\"processed_data\")"
   ]
  },
  {
   "cell_type": "markdown",
   "metadata": {},
   "source": [
    "### Compute Target\n",
    "Specify and configure the compute target for this workspace. If a compute cluster by the name we specified does not exist, create a new compute cluster."
   ]
  },
  {
   "cell_type": "code",
   "execution_count": 55,
   "metadata": {},
   "outputs": [
    {
     "name": "stdout",
     "output_type": "stream",
     "text": [
      "Found existing compute target.\n",
      "Azure Machine Learning Compute attached\n",
      "Compute targets:  {'my-gpu-cluster': AmlCompute(workspace=Workspace.create(name='covid-cxr', subscription_id='52f01a1a-c766-41a4-9062-a73cffbef727', resource_group='res_grp1'), name=my-gpu-cluster, id=/subscriptions/52f01a1a-c766-41a4-9062-a73cffbef727/resourceGroups/res_grp1/providers/Microsoft.MachineLearningServices/workspaces/covid-cxr/computes/my-gpu-cluster, type=AmlCompute, provisioning_state=Failed, location=canadacentral, tags=None), 'nc6-gpu-cluster': AmlCompute(workspace=Workspace.create(name='covid-cxr', subscription_id='52f01a1a-c766-41a4-9062-a73cffbef727', resource_group='res_grp1'), name=nc6-gpu-cluster, id=/subscriptions/52f01a1a-c766-41a4-9062-a73cffbef727/resourceGroups/res_grp1/providers/Microsoft.MachineLearningServices/workspaces/covid-cxr/computes/nc6-gpu-cluster, type=AmlCompute, provisioning_state=Failed, location=canadacentral, tags=None), 'nc6s-gpu-cluster': AmlCompute(workspace=Workspace.create(name='covid-cxr', subscription_id='52f01a1a-c766-41a4-9062-a73cffbef727', resource_group='res_grp1'), name=nc6s-gpu-cluster, id=/subscriptions/52f01a1a-c766-41a4-9062-a73cffbef727/resourceGroups/res_grp1/providers/Microsoft.MachineLearningServices/workspaces/covid-cxr/computes/nc6s-gpu-cluster, type=AmlCompute, provisioning_state=Failed, location=canadacentral, tags=None), 'terminal': id: /subscriptions/52f01a1a-c766-41a4-9062-a73cffbef727/resourceGroups/res_grp1/providers/Microsoft.MachineLearningServices/workspaces/covid-cxr/computes/terminal,\n",
      "name: terminal,\n",
      "location: canadacentral,\n",
      "tags: None,\n",
      "properties: {'description': None, 'computeType': 'ComputeInstance', 'computeLocation': 'canadacentral', 'provisioningErrors': None, 'properties': {'vmSize': 'STANDARD_DS1_V2', 'applications': [{'displayName': 'Jupyter', 'endpointUri': 'https://terminal.canadacentral.instances.azureml.net'}, {'displayName': 'Jupyter Lab', 'endpointUri': 'https://terminal.canadacentral.instances.azureml.net/lab'}, {'displayName': 'RStudio', 'endpointUri': 'https://terminal-8787.canadacentral.instances.azureml.net'}], 'connectivityEndpoints': {'publicIpAddress': '52.139.15.147', 'privateIpAddress': '10.0.0.4'}, 'sshSettings': {'sshPublicAccess': 'Disabled', 'adminUserName': 'azureuser', 'adminPublicKey': None, 'sshPort': 4000}, 'subnet': {'id': None}, 'errors': None}, 'status': {'errors': None, 'creationTime': '2020-03-31T19:11:01.426178+00:00', 'createdBy': {'userId': '9d2ee4a0-f3e5-4126-a466-99ef34984084', 'userOrgId': 'ad93a64d-ad0d-4ecd-b2fd-e53ce15965be'}, 'modifiedTime': '2020-04-06T12:31:54.150936+00:00', 'state': 'Running', 'vmSize': 'STANDARD_DS1_V2'}}, 'd2-gpu-cluster': AmlCompute(workspace=Workspace.create(name='covid-cxr', subscription_id='52f01a1a-c766-41a4-9062-a73cffbef727', resource_group='res_grp1'), name=d2-gpu-cluster, id=/subscriptions/52f01a1a-c766-41a4-9062-a73cffbef727/resourceGroups/res_grp1/providers/Microsoft.MachineLearningServices/workspaces/covid-cxr/computes/d2-gpu-cluster, type=AmlCompute, provisioning_state=Succeeded, location=canadacentral, tags=None), 'd2-cpu-cluster': AmlCompute(workspace=Workspace.create(name='covid-cxr', subscription_id='52f01a1a-c766-41a4-9062-a73cffbef727', resource_group='res_grp1'), name=d2-cpu-cluster, id=/subscriptions/52f01a1a-c766-41a4-9062-a73cffbef727/resourceGroups/res_grp1/providers/Microsoft.MachineLearningServices/workspaces/covid-cxr/computes/d2-cpu-cluster, type=AmlCompute, provisioning_state=Succeeded, location=canadacentral, tags=None)}\n"
     ]
    }
   ],
   "source": [
    "ct_name = \"d2-cpu-cluster\"   # Name of our compute cluster\n",
    "vm_size = \"STANDARD_D2_V2\"   # Specify the Azure VM for execution of our pipeline\n",
    "\n",
    "# Set up the compute target for this\n",
    "try:\n",
    "    compute_target = AmlCompute(ws, ct_name)\n",
    "    print(\"Found existing compute target.\")\n",
    "except ComputeTargetException:\n",
    "    print(\"Creating new compute target\")\n",
    "    provisioning_config = AmlCompute.provisioning_configuration(vm_size = vm_size,\n",
    "                                                                min_nodes = 1, \n",
    "                                                                max_nodes = 3)    \n",
    "    compute_target = ComputeTarget.create(ws, ct_name, provisioning_config)  # Create the compute cluster\n",
    "    \n",
    "    # Wait for cluster to be provisioned\n",
    "    compute_target.wait_for_completion(show_output=True, min_node_count=None, timeout_in_minutes=20) \n",
    "    \n",
    "print(\"Azure Machine Learning Compute attached\")\n",
    "print(\"Compute targets: \", ws.compute_targets)\n",
    "compute_target = ws.compute_targets[ct_name]"
   ]
  },
  {
   "cell_type": "markdown",
   "metadata": {},
   "source": [
    "### Define pipeline and submit experiment.\n",
    "Define the steps of an Azure machine learning pipeline. Create an Azure Experiment that will run our pipeline. Submit the experiment to the execution environment."
   ]
  },
  {
   "cell_type": "code",
   "execution_count": 56,
   "metadata": {},
   "outputs": [
    {
     "name": "stdout",
     "output_type": "stream",
     "text": [
      "Step preprocess_step is ready to be created [d37678aa]\n",
      "Step estimator_train is ready to be created [30be703d]\n",
      "Created step preprocess_step [d37678aa][81516a06-73ee-4cf2-b7cc-ed3a07e09624], (This step will run and generate new outputs)\n",
      "Created step estimator_train [30be703d][393c7bd8-7f8f-4618-ad5d-bc165390b0cb], (This step will run and generate new outputs)\n",
      "Using data reference raw_covid_data for StepId [fcc71f99][e504c00e-cf0c-408e-8bc5-ebe6819f8135], (Consumers of this data are eligible to reuse prior runs.)\n",
      "Using data reference raw_rsna_data for StepId [08ad5039][89ae9f7a-275f-42f8-aec8-f22978bb298c], (Consumers of this data are eligible to reuse prior runs.)\n",
      "Using data reference training_logs_data for StepId [b15ee1a9][23cf5660-b8cf-49f1-a90f-f805c3927088], (Consumers of this data are eligible to reuse prior runs.)\n",
      "Using data reference models_data for StepId [7cf87833][7e02318c-dbf3-4f78-badd-685e749f72f9], (Consumers of this data are eligible to reuse prior runs.)\n",
      "Submitted PipelineRun 6d356344-b082-4b25-bd72-6e016a375c9f\n",
      "Link to Azure Machine Learning Portal: https://ml.azure.com/experiments/SingleTrainExperiment_v2/runs/6d356344-b082-4b25-bd72-6e016a375c9f?wsid=/subscriptions/52f01a1a-c766-41a4-9062-a73cffbef727/resourcegroups/res_grp1/workspaces/covid-cxr\n",
      "Pipeline is submitted for execution\n"
     ]
    }
   ],
   "source": [
    "# Define preprocessing step the ML pipeline\n",
    "step1 = PythonScriptStep(name=\"preprocess_step\",\n",
    "                         script_name=\"azure/preprocess_step.py\",\n",
    "                         arguments=[\"--coviddatadir\", covid_data_dr, \"--rsnadatadir\", rsna_data_dr, \"--preprocesseddir\", \n",
    "                                    processed_pd],\n",
    "                         inputs=[covid_data_dr, rsna_data_dr],\n",
    "                         outputs=[processed_pd],\n",
    "                         compute_target=compute_target, \n",
    "                         source_directory=\"./../\",\n",
    "                         runconfig=runconfig,\n",
    "                         allow_reuse=True)\n",
    "\n",
    "# Define training step in the ML pipeline\n",
    "est = Estimator(source_directory='./../',\n",
    "                   script_params=None,\n",
    "                   compute_target=compute_target,\n",
    "                   entry_script='azure/train_step.py',\n",
    "                   pip_packages=['tensorflow', 'tensorboard', 'pandas', 'dill', 'numpy', 'imblearn'],\n",
    "                   pip_requirements_file='./requirements.txt')\n",
    "step2 = EstimatorStep(name=\"estimator_train\", \n",
    "                      estimator=est, \n",
    "                      estimator_entry_script_arguments=[\"--preprocesseddir\", processed_pd, \"--traininglogsdir\", training_logs_dr,\n",
    "                                                       \"--modelsdir\", models_dr],\n",
    "                      runconfig_pipeline_params=None, \n",
    "                      inputs=[processed_pd, training_logs_dr, models_dr], \n",
    "                      outputs=[], \n",
    "                      compute_target=compute_target)\n",
    "\n",
    "# Construct the ML pipeline from the steps\n",
    "steps = [step1, step2]\n",
    "single_train_pipeline = Pipeline(workspace=ws, steps=steps)\n",
    "single_train_pipeline.validate()\n",
    "\n",
    "# Define a new experiment and submit a new pipeline run to the compute target.\n",
    "experiment = Experiment(workspace=ws, name='SingleTrainExperiment_v2')\n",
    "experiment.submit(single_train_pipeline, regenerate_outputs=False)\n",
    "print(\"Pipeline is submitted for execution\")\n",
    "\n",
    "# Move AML ignore file back to original folder\n",
    "aml_ignore_path = shutil.move(aml_ignore_path, './.amlignore') "
   ]
  },
  {
   "cell_type": "code",
   "execution_count": null,
   "metadata": {},
   "outputs": [],
   "source": []
  }
 ],
 "metadata": {
  "kernelspec": {
   "display_name": "Python 3",
   "language": "python",
   "name": "python3"
  },
  "language_info": {
   "codemirror_mode": {
    "name": "ipython",
    "version": 3
   },
   "file_extension": ".py",
   "mimetype": "text/x-python",
   "name": "python",
   "nbconvert_exporter": "python",
   "pygments_lexer": "ipython3",
   "version": "3.7.3"
  }
 },
 "nbformat": 4,
 "nbformat_minor": 2
}
