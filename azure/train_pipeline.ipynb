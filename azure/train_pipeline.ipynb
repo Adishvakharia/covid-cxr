{
 "cells": [
  {
   "cell_type": "markdown",
   "metadata": {},
   "source": [
    "# Azure ML Training Pipeline for COVID-CXR\n",
    "This notebook defines an Azure machine learning pipeline for a single training run and submits the pipeline as an experiment to be run on an Azure virtual machine."
   ]
  },
  {
   "cell_type": "code",
   "execution_count": 3,
   "metadata": {},
   "outputs": [],
   "source": [
    "# Import statements\n",
    "import azureml.core\n",
    "from azureml.core import Experiment\n",
    "from azureml.core import Workspace, Datastore\n",
    "from azureml.data.data_reference import DataReference\n",
    "from azureml.pipeline.core import PipelineData\n",
    "from azureml.pipeline.core import Pipeline\n",
    "from azureml.pipeline.steps import PythonScriptStep, EstimatorStep\n",
    "from azureml.train.dnn import TensorFlow\n",
    "from azureml.train.estimator import Estimator\n",
    "from azureml.core.compute import ComputeTarget, AmlCompute\n",
    "from azureml.core.compute_target import ComputeTargetException\n",
    "from azureml.core.environment import Environment\n",
    "from azureml.core.runconfig import RunConfiguration"
   ]
  },
  {
   "cell_type": "markdown",
   "metadata": {},
   "source": [
    "### Register the workspace and configure its Python environment."
   ]
  },
  {
   "cell_type": "code",
   "execution_count": 4,
   "metadata": {},
   "outputs": [
    {
     "name": "stderr",
     "output_type": "stream",
     "text": [
      "WARNING - Note, we have launched a browser for you to login. For old experience with device code, use \"az login --use-device-code\"\n"
     ]
    },
    {
     "name": "stdout",
     "output_type": "stream",
     "text": [
      "Performing interactive authentication. Please follow the instructions on the terminal.\n"
     ]
    },
    {
     "name": "stderr",
     "output_type": "stream",
     "text": [
      "WARNING - You have logged in. Now let us find all the subscriptions to which you have access...\n"
     ]
    },
    {
     "name": "stdout",
     "output_type": "stream",
     "text": [
      "Interactive authentication successfully completed.\n",
      "covid-cxr\n",
      "res_grp1\n",
      "canadacentral\n",
      "52f01a1a-c766-41a4-9062-a73cffbef727\n",
      "# Conda environment specification. The dependencies defined in this file will\n",
      "# be automatically provisioned for runs with userManagedDependencies=False.\n",
      "\n",
      "# Details about the Conda environment file format:\n",
      "# https://conda.io/docs/user-guide/tasks/manage-environments.html#create-env-file-manually\n",
      "\n",
      "name: project_environment\n",
      "dependencies:\n",
      "  # The python interpreter version.\n",
      "  # Currently Azure ML only supports 3.5.2 and later.\n",
      "- python=3.6.2\n",
      "\n",
      "- pip:\n",
      "  - pyyaml==5.2\n",
      "  - matplotlib==3.1.1\n",
      "  - tqdm==4.40.2\n",
      "  - opencv_python==4.1.0.25\n",
      "  - tensorflow_gpu==2.0.1\n",
      "  - dill==0.3.0\n",
      "  - scikit_image==0.15.0\n",
      "  - numpy==1.17.4\n",
      "  - pandas==0.25.3\n",
      "  - pydicom==1.4.2\n",
      "  - imbalanced_learn==0.6.1\n",
      "  - tensorboard==2.0.2\n",
      "  - lime==0.1.1.37\n",
      "channels:\n",
      "- anaconda\n",
      "- conda-forge\n",
      "\n"
     ]
    }
   ],
   "source": [
    "# Get reference to the workspace\n",
    "ws = Workspace.from_config(\"./ws_config.json\")\n",
    "print(ws.name, ws.resource_group, ws.location, ws.subscription_id, sep = '\\n')\n",
    "\n",
    "# Set workspace's environment\n",
    "env = Environment.from_pip_requirements(name = \"covid-cxr_env\", file_path = \"./../requirements.txt\")\n",
    "env.register(workspace=ws)\n",
    "runconfig = RunConfiguration(conda_dependencies=env.python.conda_dependencies)\n",
    "print(env.python.conda_dependencies.serialize_to_string())"
   ]
  },
  {
   "cell_type": "markdown",
   "metadata": {},
   "source": [
    "### Create references to persistent and intermediate data\n",
    "Create DataReference objects that point to our raw data on the blob. Configure a PipelineData object to point to preprocessed images stored on the blob."
   ]
  },
  {
   "cell_type": "code",
   "execution_count": 5,
   "metadata": {},
   "outputs": [],
   "source": [
    "# Get the blob datastore associated with this workspace\n",
    "blob_store = Datastore(ws, name='covidcxrdata0')\n",
    "\n",
    "# Create data references to folders on the blob\n",
    "covid_data_dr = DataReference(\n",
    "    datastore=blob_store,\n",
    "    data_reference_name=\"raw_covid_data\",\n",
    "    path_on_datastore=\"data/covid-chestxray-dataset/\")\n",
    "rsna_data_dr = DataReference(\n",
    "    datastore=blob_store,\n",
    "    data_reference_name=\"raw_rsna_data\",\n",
    "    path_on_datastore=\"data/rsna/\")\n",
    "training_logs_dr = DataReference(\n",
    "    datastore=blob_store,\n",
    "    data_reference_name=\"training_logs_data\",\n",
    "    path_on_datastore=\"logs/training/\")\n",
    "models_dr = DataReference(\n",
    "    datastore=blob_store,\n",
    "    data_reference_name=\"models_data\",\n",
    "    path_on_datastore=\"models/\")\n",
    "\n",
    "# Set up references to pipeline data (intermediate pipeline storage).\n",
    "processed_pd = PipelineData(\n",
    "    \"processed_data\",\n",
    "    datastore=blob_store,\n",
    "    output_name=\"processed_data\")"
   ]
  },
  {
   "cell_type": "markdown",
   "metadata": {},
   "source": [
    "### Compute Target\n",
    "Specify and configure the compute target for this workspace. If a compute cluster by the name we specified does not exist, create a new compute cluster."
   ]
  },
  {
   "cell_type": "code",
   "execution_count": 6,
   "metadata": {},
   "outputs": [
    {
     "name": "stdout",
     "output_type": "stream",
     "text": [
      "Found existing compute target.\n",
      "Azure Machine Learning Compute attached\n",
      "Compute targets:  {'my-gpu-cluster': AmlCompute(workspace=Workspace.create(name='covid-cxr', subscription_id='52f01a1a-c766-41a4-9062-a73cffbef727', resource_group='res_grp1'), name=my-gpu-cluster, id=/subscriptions/52f01a1a-c766-41a4-9062-a73cffbef727/resourceGroups/res_grp1/providers/Microsoft.MachineLearningServices/workspaces/covid-cxr/computes/my-gpu-cluster, type=AmlCompute, provisioning_state=Failed, location=canadacentral, tags=None), 'nc6-gpu-cluster': AmlCompute(workspace=Workspace.create(name='covid-cxr', subscription_id='52f01a1a-c766-41a4-9062-a73cffbef727', resource_group='res_grp1'), name=nc6-gpu-cluster, id=/subscriptions/52f01a1a-c766-41a4-9062-a73cffbef727/resourceGroups/res_grp1/providers/Microsoft.MachineLearningServices/workspaces/covid-cxr/computes/nc6-gpu-cluster, type=AmlCompute, provisioning_state=Failed, location=canadacentral, tags=None), 'nc6s-gpu-cluster': AmlCompute(workspace=Workspace.create(name='covid-cxr', subscription_id='52f01a1a-c766-41a4-9062-a73cffbef727', resource_group='res_grp1'), name=nc6s-gpu-cluster, id=/subscriptions/52f01a1a-c766-41a4-9062-a73cffbef727/resourceGroups/res_grp1/providers/Microsoft.MachineLearningServices/workspaces/covid-cxr/computes/nc6s-gpu-cluster, type=AmlCompute, provisioning_state=Failed, location=canadacentral, tags=None), 'terminal': id: /subscriptions/52f01a1a-c766-41a4-9062-a73cffbef727/resourceGroups/res_grp1/providers/Microsoft.MachineLearningServices/workspaces/covid-cxr/computes/terminal,\n",
      "name: terminal,\n",
      "location: canadacentral,\n",
      "tags: None,\n",
      "properties: {'description': None, 'computeType': 'ComputeInstance', 'computeLocation': 'canadacentral', 'provisioningErrors': None, 'properties': {'vmSize': 'STANDARD_DS1_V2', 'applications': [{'displayName': 'Jupyter', 'endpointUri': 'https://terminal.canadacentral.instances.azureml.net'}, {'displayName': 'Jupyter Lab', 'endpointUri': 'https://terminal.canadacentral.instances.azureml.net/lab'}, {'displayName': 'RStudio', 'endpointUri': 'https://terminal-8787.canadacentral.instances.azureml.net'}], 'connectivityEndpoints': {'publicIpAddress': '52.139.15.147', 'privateIpAddress': '10.0.0.4'}, 'sshSettings': {'sshPublicAccess': 'Disabled', 'adminUserName': 'azureuser', 'adminPublicKey': None, 'sshPort': 4000}, 'subnet': {'id': None}, 'errors': None}, 'status': {'errors': None, 'creationTime': '2020-03-31T19:11:01.426178+00:00', 'createdBy': {'userId': '9d2ee4a0-f3e5-4126-a466-99ef34984084', 'userOrgId': 'ad93a64d-ad0d-4ecd-b2fd-e53ce15965be'}, 'modifiedTime': '2020-04-03T12:27:49.594650+00:00', 'state': 'Running', 'vmSize': 'STANDARD_DS1_V2'}}, 'd2-gpu-cluster': AmlCompute(workspace=Workspace.create(name='covid-cxr', subscription_id='52f01a1a-c766-41a4-9062-a73cffbef727', resource_group='res_grp1'), name=d2-gpu-cluster, id=/subscriptions/52f01a1a-c766-41a4-9062-a73cffbef727/resourceGroups/res_grp1/providers/Microsoft.MachineLearningServices/workspaces/covid-cxr/computes/d2-gpu-cluster, type=AmlCompute, provisioning_state=Succeeded, location=canadacentral, tags=None), 'd2-cpu-cluster': AmlCompute(workspace=Workspace.create(name='covid-cxr', subscription_id='52f01a1a-c766-41a4-9062-a73cffbef727', resource_group='res_grp1'), name=d2-cpu-cluster, id=/subscriptions/52f01a1a-c766-41a4-9062-a73cffbef727/resourceGroups/res_grp1/providers/Microsoft.MachineLearningServices/workspaces/covid-cxr/computes/d2-cpu-cluster, type=AmlCompute, provisioning_state=Succeeded, location=canadacentral, tags=None)}\n"
     ]
    }
   ],
   "source": [
    "ct_name = \"d2-cpu-cluster\"   # Name of our compute cluster\n",
    "vm_size = \"STANDARD_D2_V2\"   # Specify the Azure VM for execution of our pipeline\n",
    "\n",
    "# Set up the compute target for this\n",
    "try:\n",
    "    compute_target = AmlCompute(ws, ct_name)\n",
    "    print(\"Found existing compute target.\")\n",
    "except ComputeTargetException:\n",
    "    print(\"Creating new compute target\")\n",
    "    provisioning_config = AmlCompute.provisioning_configuration(vm_size = vm_size,\n",
    "                                                                min_nodes = 1, \n",
    "                                                                max_nodes = 3)    \n",
    "    compute_target = ComputeTarget.create(ws, ct_name, provisioning_config)  # Create the compute cluster\n",
    "    \n",
    "    # Wait for cluster to be provisioned\n",
    "    compute_target.wait_for_completion(show_output=True, min_node_count=None, timeout_in_minutes=20) \n",
    "    \n",
    "print(\"Azure Machine Learning Compute attached\")\n",
    "print(\"Compute targets: \", ws.compute_targets)\n",
    "compute_target = ws.compute_targets[ct_name]"
   ]
  },
  {
   "cell_type": "markdown",
   "metadata": {},
   "source": [
    "### Define pipeline and submit experiment.\n",
    "Define the steps of an Azure machine learning pipeline. Create an Azure Experiment that will run our pipeline. Submit the experiment to the execution environment."
   ]
  },
  {
   "cell_type": "code",
   "execution_count": 7,
   "metadata": {},
   "outputs": [
    {
     "name": "stdout",
     "output_type": "stream",
     "text": [
      "Step preprocess_step is ready to be created [c789babb]\n",
      "Step estimator_train is ready to be created [08fc3aa7]\n"
     ]
    },
    {
     "ename": "SnapshotException",
     "evalue": "SnapshotException:\n\tMessage: ====================================================================\n\nWhile attempting to take snapshot of ./../\nYour total snapshot size exceeds the limit of 300.0 MB.\nPlease see http://aka.ms/aml-largefiles on how to work with large files.\n\n====================================================================\n\n\n\tInnerException None\n\tErrorResponse \n{\n    \"error\": {\n        \"message\": \"====================================================================\\n\\nWhile attempting to take snapshot of ./../\\nYour total snapshot size exceeds the limit of 300.0 MB.\\nPlease see http://aka.ms/aml-largefiles on how to work with large files.\\n\\n====================================================================\\n\\n\"\n    }\n}",
     "output_type": "error",
     "traceback": [
      "\u001b[1;31m---------------------------------------------------------------------------\u001b[0m",
      "\u001b[1;31mSnapshotException\u001b[0m                         Traceback (most recent call last)",
      "\u001b[1;32m<ipython-input-7-116730974fe9>\u001b[0m in \u001b[0;36m<module>\u001b[1;34m\u001b[0m\n\u001b[0;32m     30\u001b[0m \u001b[0msingle_train_pipeline\u001b[0m\u001b[1;33m.\u001b[0m\u001b[0mvalidate\u001b[0m\u001b[1;33m(\u001b[0m\u001b[1;33m)\u001b[0m\u001b[1;33m\u001b[0m\u001b[1;33m\u001b[0m\u001b[0m\n\u001b[0;32m     31\u001b[0m \u001b[1;33m\u001b[0m\u001b[0m\n\u001b[1;32m---> 32\u001b[1;33m \u001b[0mexperiment\u001b[0m \u001b[1;33m=\u001b[0m \u001b[0mExperiment\u001b[0m\u001b[1;33m(\u001b[0m\u001b[0mws\u001b[0m\u001b[1;33m,\u001b[0m \u001b[1;34m'SingleTrainExperiment_v2'\u001b[0m\u001b[1;33m)\u001b[0m\u001b[1;33m.\u001b[0m\u001b[0msubmit\u001b[0m\u001b[1;33m(\u001b[0m\u001b[0msingle_train_pipeline\u001b[0m\u001b[1;33m,\u001b[0m \u001b[0mregenerate_outputs\u001b[0m\u001b[1;33m=\u001b[0m\u001b[1;32mFalse\u001b[0m\u001b[1;33m)\u001b[0m\u001b[1;33m\u001b[0m\u001b[1;33m\u001b[0m\u001b[0m\n\u001b[0m\u001b[0;32m     33\u001b[0m \u001b[0mprint\u001b[0m\u001b[1;33m(\u001b[0m\u001b[1;34m\"Pipeline is submitted for execution\"\u001b[0m\u001b[1;33m)\u001b[0m\u001b[1;33m\u001b[0m\u001b[1;33m\u001b[0m\u001b[0m\n",
      "\u001b[1;32m~\\Anaconda3\\lib\\site-packages\\azureml\\core\\experiment.py\u001b[0m in \u001b[0;36msubmit\u001b[1;34m(self, config, tags, **kwargs)\u001b[0m\n\u001b[0;32m    200\u001b[0m         \u001b[0msubmit_func\u001b[0m \u001b[1;33m=\u001b[0m \u001b[0mget_experiment_submit\u001b[0m\u001b[1;33m(\u001b[0m\u001b[0mconfig\u001b[0m\u001b[1;33m)\u001b[0m\u001b[1;33m\u001b[0m\u001b[1;33m\u001b[0m\u001b[0m\n\u001b[0;32m    201\u001b[0m         \u001b[1;32mwith\u001b[0m \u001b[0mself\u001b[0m\u001b[1;33m.\u001b[0m\u001b[0m_log_context\u001b[0m\u001b[1;33m(\u001b[0m\u001b[1;34m\"submit config {}\"\u001b[0m\u001b[1;33m.\u001b[0m\u001b[0mformat\u001b[0m\u001b[1;33m(\u001b[0m\u001b[0mconfig\u001b[0m\u001b[1;33m.\u001b[0m\u001b[0m__class__\u001b[0m\u001b[1;33m.\u001b[0m\u001b[0m__name__\u001b[0m\u001b[1;33m)\u001b[0m\u001b[1;33m)\u001b[0m\u001b[1;33m:\u001b[0m\u001b[1;33m\u001b[0m\u001b[1;33m\u001b[0m\u001b[0m\n\u001b[1;32m--> 202\u001b[1;33m             \u001b[0mrun\u001b[0m \u001b[1;33m=\u001b[0m \u001b[0msubmit_func\u001b[0m\u001b[1;33m(\u001b[0m\u001b[0mconfig\u001b[0m\u001b[1;33m,\u001b[0m \u001b[0mself\u001b[0m\u001b[1;33m.\u001b[0m\u001b[0mworkspace\u001b[0m\u001b[1;33m,\u001b[0m \u001b[0mself\u001b[0m\u001b[1;33m.\u001b[0m\u001b[0mname\u001b[0m\u001b[1;33m,\u001b[0m \u001b[1;33m**\u001b[0m\u001b[0mkwargs\u001b[0m\u001b[1;33m)\u001b[0m\u001b[1;33m\u001b[0m\u001b[1;33m\u001b[0m\u001b[0m\n\u001b[0m\u001b[0;32m    203\u001b[0m         \u001b[1;32mif\u001b[0m \u001b[0mtags\u001b[0m \u001b[1;32mis\u001b[0m \u001b[1;32mnot\u001b[0m \u001b[1;32mNone\u001b[0m\u001b[1;33m:\u001b[0m\u001b[1;33m\u001b[0m\u001b[1;33m\u001b[0m\u001b[0m\n\u001b[0;32m    204\u001b[0m             \u001b[0mrun\u001b[0m\u001b[1;33m.\u001b[0m\u001b[0mset_tags\u001b[0m\u001b[1;33m(\u001b[0m\u001b[0mtags\u001b[0m\u001b[1;33m)\u001b[0m\u001b[1;33m\u001b[0m\u001b[1;33m\u001b[0m\u001b[0m\n",
      "\u001b[1;32m~\\Anaconda3\\lib\\site-packages\\azureml\\pipeline\\core\\pipeline.py\u001b[0m in \u001b[0;36m_submit_pipeline\u001b[1;34m(pipeline, workspace, experiment_name, **kwargs)\u001b[0m\n\u001b[0;32m     49\u001b[0m                            \u001b[0mcontinue_on_step_failure\u001b[0m\u001b[1;33m=\u001b[0m\u001b[0mcontinue_on_step_failure\u001b[0m\u001b[1;33m,\u001b[0m\u001b[1;33m\u001b[0m\u001b[1;33m\u001b[0m\u001b[0m\n\u001b[0;32m     50\u001b[0m                            \u001b[0mregenerate_outputs\u001b[0m\u001b[1;33m=\u001b[0m\u001b[0mregenerate_outputs\u001b[0m\u001b[1;33m,\u001b[0m \u001b[0mparent_run_id\u001b[0m\u001b[1;33m=\u001b[0m\u001b[0mparent_run_id\u001b[0m\u001b[1;33m,\u001b[0m\u001b[1;33m\u001b[0m\u001b[1;33m\u001b[0m\u001b[0m\n\u001b[1;32m---> 51\u001b[1;33m                            enable_email_notification=enable_email_notification)\n\u001b[0m\u001b[0;32m     52\u001b[0m \u001b[1;33m\u001b[0m\u001b[0m\n\u001b[0;32m     53\u001b[0m \u001b[1;33m\u001b[0m\u001b[0m\n",
      "\u001b[1;32m~\\Anaconda3\\lib\\site-packages\\azureml\\pipeline\\core\\pipeline.py\u001b[0m in \u001b[0;36msubmit\u001b[1;34m(self, experiment_name, pipeline_parameters, continue_on_step_failure, regenerate_outputs, parent_run_id, **kwargs)\u001b[0m\n\u001b[0;32m    279\u001b[0m             \u001b[0mpipeline_parameters\u001b[0m\u001b[1;33m=\u001b[0m\u001b[0mpipeline_parameters\u001b[0m\u001b[1;33m,\u001b[0m \u001b[0mcontinue_on_step_failure\u001b[0m\u001b[1;33m=\u001b[0m\u001b[0mcontinue_on_step_failure\u001b[0m\u001b[1;33m,\u001b[0m\u001b[1;33m\u001b[0m\u001b[1;33m\u001b[0m\u001b[0m\n\u001b[0;32m    280\u001b[0m             \u001b[0mregenerate_outputs\u001b[0m\u001b[1;33m=\u001b[0m\u001b[0mregenerate_outputs\u001b[0m\u001b[1;33m,\u001b[0m \u001b[0mparent_run_id\u001b[0m\u001b[1;33m=\u001b[0m\u001b[0mparent_run_id\u001b[0m\u001b[1;33m,\u001b[0m\u001b[1;33m\u001b[0m\u001b[1;33m\u001b[0m\u001b[0m\n\u001b[1;32m--> 281\u001b[1;33m             enable_email_notification=enable_email_notification)\n\u001b[0m\u001b[0;32m    282\u001b[0m \u001b[1;33m\u001b[0m\u001b[0m\n\u001b[0;32m    283\u001b[0m     \u001b[1;32mdef\u001b[0m \u001b[0mpublish\u001b[0m\u001b[1;33m(\u001b[0m\u001b[0mself\u001b[0m\u001b[1;33m,\u001b[0m \u001b[0mname\u001b[0m\u001b[1;33m=\u001b[0m\u001b[1;32mNone\u001b[0m\u001b[1;33m,\u001b[0m \u001b[0mdescription\u001b[0m\u001b[1;33m=\u001b[0m\u001b[1;32mNone\u001b[0m\u001b[1;33m,\u001b[0m \u001b[0mversion\u001b[0m\u001b[1;33m=\u001b[0m\u001b[1;32mNone\u001b[0m\u001b[1;33m,\u001b[0m \u001b[0mcontinue_on_step_failure\u001b[0m\u001b[1;33m=\u001b[0m\u001b[1;32mNone\u001b[0m\u001b[1;33m)\u001b[0m\u001b[1;33m:\u001b[0m\u001b[1;33m\u001b[0m\u001b[1;33m\u001b[0m\u001b[0m\n",
      "\u001b[1;32m~\\Anaconda3\\lib\\site-packages\\azureml\\pipeline\\core\\graph.py\u001b[0m in \u001b[0;36msubmit\u001b[1;34m(self, pipeline_parameters, continue_on_step_failure, regenerate_outputs, parent_run_id, **kwargs)\u001b[0m\n\u001b[0;32m   3534\u001b[0m         \u001b[1;33m:\u001b[0m\u001b[0mrtype\u001b[0m\u001b[1;33m:\u001b[0m \u001b[0mazureml\u001b[0m\u001b[1;33m.\u001b[0m\u001b[0mpipeline\u001b[0m\u001b[1;33m.\u001b[0m\u001b[0mcore\u001b[0m\u001b[1;33m.\u001b[0m\u001b[0mPipelineRun\u001b[0m\u001b[1;33m\u001b[0m\u001b[1;33m\u001b[0m\u001b[0m\n\u001b[0;32m   3535\u001b[0m         \"\"\"\n\u001b[1;32m-> 3536\u001b[1;33m         \u001b[0mself\u001b[0m\u001b[1;33m.\u001b[0m\u001b[0m_validate_and_finalize\u001b[0m\u001b[1;33m(\u001b[0m\u001b[0mpipeline_parameters\u001b[0m\u001b[1;33m=\u001b[0m\u001b[0mpipeline_parameters\u001b[0m\u001b[1;33m,\u001b[0m \u001b[0mregenerate_outputs\u001b[0m\u001b[1;33m=\u001b[0m\u001b[0mregenerate_outputs\u001b[0m\u001b[1;33m)\u001b[0m\u001b[1;33m\u001b[0m\u001b[1;33m\u001b[0m\u001b[0m\n\u001b[0m\u001b[0;32m   3537\u001b[0m         \u001b[0menable_email_notification\u001b[0m \u001b[1;33m=\u001b[0m \u001b[1;32mNone\u001b[0m\u001b[1;33m\u001b[0m\u001b[1;33m\u001b[0m\u001b[0m\n\u001b[0;32m   3538\u001b[0m         \u001b[1;32mfor\u001b[0m \u001b[0mkey\u001b[0m\u001b[1;33m,\u001b[0m \u001b[0mvalue\u001b[0m \u001b[1;32min\u001b[0m \u001b[0mkwargs\u001b[0m\u001b[1;33m.\u001b[0m\u001b[0mitems\u001b[0m\u001b[1;33m(\u001b[0m\u001b[1;33m)\u001b[0m\u001b[1;33m:\u001b[0m\u001b[1;33m\u001b[0m\u001b[1;33m\u001b[0m\u001b[0m\n",
      "\u001b[1;32m~\\Anaconda3\\lib\\site-packages\\azureml\\pipeline\\core\\graph.py\u001b[0m in \u001b[0;36m_validate_and_finalize\u001b[1;34m(self, pipeline_parameters, regenerate_outputs)\u001b[0m\n\u001b[0;32m   3615\u001b[0m \u001b[1;33m\u001b[0m\u001b[0m\n\u001b[0;32m   3616\u001b[0m         \u001b[1;32mif\u001b[0m \u001b[1;32mnot\u001b[0m \u001b[0mself\u001b[0m\u001b[1;33m.\u001b[0m\u001b[0m_finalized\u001b[0m \u001b[1;32mor\u001b[0m \u001b[0mregenerate_outputs\u001b[0m\u001b[1;33m:\u001b[0m\u001b[1;33m\u001b[0m\u001b[1;33m\u001b[0m\u001b[0m\n\u001b[1;32m-> 3617\u001b[1;33m             \u001b[0mself\u001b[0m\u001b[1;33m.\u001b[0m\u001b[0mfinalize\u001b[0m\u001b[1;33m(\u001b[0m\u001b[0mdry_run\u001b[0m\u001b[1;33m=\u001b[0m\u001b[1;32mFalse\u001b[0m\u001b[1;33m,\u001b[0m \u001b[0mregenerate_outputs\u001b[0m\u001b[1;33m=\u001b[0m\u001b[0mregenerate_outputs\u001b[0m\u001b[1;33m)\u001b[0m\u001b[1;33m\u001b[0m\u001b[1;33m\u001b[0m\u001b[0m\n\u001b[0m\u001b[0;32m   3618\u001b[0m \u001b[1;33m\u001b[0m\u001b[0m\n\u001b[0;32m   3619\u001b[0m     \u001b[1;32mdef\u001b[0m \u001b[0m_generate_node_id\u001b[0m\u001b[1;33m(\u001b[0m\u001b[0mself\u001b[0m\u001b[1;33m)\u001b[0m\u001b[1;33m:\u001b[0m\u001b[1;33m\u001b[0m\u001b[1;33m\u001b[0m\u001b[0m\n",
      "\u001b[1;32m~\\Anaconda3\\lib\\site-packages\\azureml\\pipeline\\core\\graph.py\u001b[0m in \u001b[0;36mfinalize\u001b[1;34m(self, dry_run, regenerate_outputs)\u001b[0m\n\u001b[0;32m   3380\u001b[0m             (done, not_done) = wait([pool.submit(get_or_create_module_for_fingerprint, fingerprint) for fingerprint\n\u001b[0;32m   3381\u001b[0m                                      in module_fingerprints], return_when=ALL_COMPLETED)\n\u001b[1;32m-> 3382\u001b[1;33m             \u001b[0mGraph\u001b[0m\u001b[1;33m.\u001b[0m\u001b[0m_check_threadpool_exceptions\u001b[0m\u001b[1;33m(\u001b[0m\u001b[0mdone\u001b[0m\u001b[1;33m,\u001b[0m \u001b[0mnot_done\u001b[0m\u001b[1;33m)\u001b[0m\u001b[1;33m\u001b[0m\u001b[1;33m\u001b[0m\u001b[0m\n\u001b[0m\u001b[0;32m   3383\u001b[0m \u001b[1;33m\u001b[0m\u001b[0m\n\u001b[0;32m   3384\u001b[0m         \u001b[1;32mdef\u001b[0m \u001b[0madd_module_to_node\u001b[0m\u001b[1;33m(\u001b[0m\u001b[0mnode\u001b[0m\u001b[1;33m)\u001b[0m\u001b[1;33m:\u001b[0m\u001b[1;33m\u001b[0m\u001b[1;33m\u001b[0m\u001b[0m\n",
      "\u001b[1;32m~\\Anaconda3\\lib\\site-packages\\azureml\\pipeline\\core\\graph.py\u001b[0m in \u001b[0;36m_check_threadpool_exceptions\u001b[1;34m(done, not_done)\u001b[0m\n\u001b[0;32m   3505\u001b[0m             \u001b[0mex\u001b[0m \u001b[1;33m=\u001b[0m \u001b[0mthread_result\u001b[0m\u001b[1;33m.\u001b[0m\u001b[0mexception\u001b[0m\u001b[1;33m(\u001b[0m\u001b[1;33m)\u001b[0m\u001b[1;33m\u001b[0m\u001b[1;33m\u001b[0m\u001b[0m\n\u001b[0;32m   3506\u001b[0m             \u001b[1;32mif\u001b[0m \u001b[0mex\u001b[0m \u001b[1;32mis\u001b[0m \u001b[1;32mnot\u001b[0m \u001b[1;32mNone\u001b[0m\u001b[1;33m:\u001b[0m\u001b[1;33m\u001b[0m\u001b[1;33m\u001b[0m\u001b[0m\n\u001b[1;32m-> 3507\u001b[1;33m                 \u001b[1;32mraise\u001b[0m \u001b[0mex\u001b[0m\u001b[1;33m\u001b[0m\u001b[1;33m\u001b[0m\u001b[0m\n\u001b[0m\u001b[0;32m   3508\u001b[0m \u001b[1;33m\u001b[0m\u001b[0m\n\u001b[0;32m   3509\u001b[0m     \u001b[1;32mdef\u001b[0m \u001b[0m_validate_pipeline_params\u001b[0m\u001b[1;33m(\u001b[0m\u001b[0mself\u001b[0m\u001b[1;33m,\u001b[0m \u001b[0mpipeline_params\u001b[0m\u001b[1;33m)\u001b[0m\u001b[1;33m:\u001b[0m\u001b[1;33m\u001b[0m\u001b[1;33m\u001b[0m\u001b[0m\n",
      "\u001b[1;32m~\\Anaconda3\\lib\\concurrent\\futures\\thread.py\u001b[0m in \u001b[0;36mrun\u001b[1;34m(self)\u001b[0m\n\u001b[0;32m     55\u001b[0m \u001b[1;33m\u001b[0m\u001b[0m\n\u001b[0;32m     56\u001b[0m         \u001b[1;32mtry\u001b[0m\u001b[1;33m:\u001b[0m\u001b[1;33m\u001b[0m\u001b[1;33m\u001b[0m\u001b[0m\n\u001b[1;32m---> 57\u001b[1;33m             \u001b[0mresult\u001b[0m \u001b[1;33m=\u001b[0m \u001b[0mself\u001b[0m\u001b[1;33m.\u001b[0m\u001b[0mfn\u001b[0m\u001b[1;33m(\u001b[0m\u001b[1;33m*\u001b[0m\u001b[0mself\u001b[0m\u001b[1;33m.\u001b[0m\u001b[0margs\u001b[0m\u001b[1;33m,\u001b[0m \u001b[1;33m**\u001b[0m\u001b[0mself\u001b[0m\u001b[1;33m.\u001b[0m\u001b[0mkwargs\u001b[0m\u001b[1;33m)\u001b[0m\u001b[1;33m\u001b[0m\u001b[1;33m\u001b[0m\u001b[0m\n\u001b[0m\u001b[0;32m     58\u001b[0m         \u001b[1;32mexcept\u001b[0m \u001b[0mBaseException\u001b[0m \u001b[1;32mas\u001b[0m \u001b[0mexc\u001b[0m\u001b[1;33m:\u001b[0m\u001b[1;33m\u001b[0m\u001b[1;33m\u001b[0m\u001b[0m\n\u001b[0;32m     59\u001b[0m             \u001b[0mself\u001b[0m\u001b[1;33m.\u001b[0m\u001b[0mfuture\u001b[0m\u001b[1;33m.\u001b[0m\u001b[0mset_exception\u001b[0m\u001b[1;33m(\u001b[0m\u001b[0mexc\u001b[0m\u001b[1;33m)\u001b[0m\u001b[1;33m\u001b[0m\u001b[1;33m\u001b[0m\u001b[0m\n",
      "\u001b[1;32m~\\Anaconda3\\lib\\site-packages\\azureml\\pipeline\\core\\graph.py\u001b[0m in \u001b[0;36mget_or_create_module_for_fingerprint\u001b[1;34m(fingerprint)\u001b[0m\n\u001b[0;32m   3367\u001b[0m                         \u001b[0mmodule_id\u001b[0m \u001b[1;33m=\u001b[0m \u001b[0mnode\u001b[0m\u001b[1;33m.\u001b[0m\u001b[0m_module_builder\u001b[0m\u001b[1;33m.\u001b[0m\u001b[0mbuild\u001b[0m\u001b[1;33m(\u001b[0m\u001b[1;33m)\u001b[0m\u001b[1;33m\u001b[0m\u001b[1;33m\u001b[0m\u001b[0m\n\u001b[0;32m   3368\u001b[0m                     \u001b[1;32mexcept\u001b[0m \u001b[0mException\u001b[0m \u001b[1;32mas\u001b[0m \u001b[0mex\u001b[0m\u001b[1;33m:\u001b[0m\u001b[1;33m\u001b[0m\u001b[1;33m\u001b[0m\u001b[0m\n\u001b[1;32m-> 3369\u001b[1;33m                         \u001b[1;32mraise\u001b[0m \u001b[0mex\u001b[0m\u001b[1;33m\u001b[0m\u001b[1;33m\u001b[0m\u001b[0m\n\u001b[0m\u001b[0;32m   3370\u001b[0m                     \u001b[1;32mfinally\u001b[0m\u001b[1;33m:\u001b[0m\u001b[1;33m\u001b[0m\u001b[1;33m\u001b[0m\u001b[0m\n\u001b[0;32m   3371\u001b[0m                         \u001b[0mmutex_writefile\u001b[0m\u001b[1;33m.\u001b[0m\u001b[0mrelease\u001b[0m\u001b[1;33m(\u001b[0m\u001b[1;33m)\u001b[0m\u001b[1;33m\u001b[0m\u001b[1;33m\u001b[0m\u001b[0m\n",
      "\u001b[1;32m~\\Anaconda3\\lib\\site-packages\\azureml\\pipeline\\core\\graph.py\u001b[0m in \u001b[0;36mget_or_create_module_for_fingerprint\u001b[1;34m(fingerprint)\u001b[0m\n\u001b[0;32m   3365\u001b[0m                     \u001b[0mmutex_writefile\u001b[0m\u001b[1;33m.\u001b[0m\u001b[0macquire\u001b[0m\u001b[1;33m(\u001b[0m\u001b[1;33m)\u001b[0m\u001b[1;33m\u001b[0m\u001b[1;33m\u001b[0m\u001b[0m\n\u001b[0;32m   3366\u001b[0m                     \u001b[1;32mtry\u001b[0m\u001b[1;33m:\u001b[0m\u001b[1;33m\u001b[0m\u001b[1;33m\u001b[0m\u001b[0m\n\u001b[1;32m-> 3367\u001b[1;33m                         \u001b[0mmodule_id\u001b[0m \u001b[1;33m=\u001b[0m \u001b[0mnode\u001b[0m\u001b[1;33m.\u001b[0m\u001b[0m_module_builder\u001b[0m\u001b[1;33m.\u001b[0m\u001b[0mbuild\u001b[0m\u001b[1;33m(\u001b[0m\u001b[1;33m)\u001b[0m\u001b[1;33m\u001b[0m\u001b[1;33m\u001b[0m\u001b[0m\n\u001b[0m\u001b[0;32m   3368\u001b[0m                     \u001b[1;32mexcept\u001b[0m \u001b[0mException\u001b[0m \u001b[1;32mas\u001b[0m \u001b[0mex\u001b[0m\u001b[1;33m:\u001b[0m\u001b[1;33m\u001b[0m\u001b[1;33m\u001b[0m\u001b[0m\n\u001b[0;32m   3369\u001b[0m                         \u001b[1;32mraise\u001b[0m \u001b[0mex\u001b[0m\u001b[1;33m\u001b[0m\u001b[1;33m\u001b[0m\u001b[0m\n",
      "\u001b[1;32m~\\Anaconda3\\lib\\site-packages\\azureml\\pipeline\\core\\_module_builder.py\u001b[0m in \u001b[0;36mbuild\u001b[1;34m(self)\u001b[0m\n\u001b[0;32m     64\u001b[0m             module_id = self._module_provider.create_module(\n\u001b[0;32m     65\u001b[0m                 \u001b[0mmodule_def\u001b[0m\u001b[1;33m=\u001b[0m\u001b[0mself\u001b[0m\u001b[1;33m.\u001b[0m\u001b[0m_module_def\u001b[0m\u001b[1;33m,\u001b[0m \u001b[0mcontent_path\u001b[0m\u001b[1;33m=\u001b[0m\u001b[0mself\u001b[0m\u001b[1;33m.\u001b[0m\u001b[0m_content_path\u001b[0m\u001b[1;33m,\u001b[0m \u001b[0mfingerprint\u001b[0m\u001b[1;33m=\u001b[0m\u001b[0mfingerprint\u001b[0m\u001b[1;33m,\u001b[0m\u001b[1;33m\u001b[0m\u001b[1;33m\u001b[0m\u001b[0m\n\u001b[1;32m---> 66\u001b[1;33m                 arguments=self._arguments)\n\u001b[0m\u001b[0;32m     67\u001b[0m \u001b[1;33m\u001b[0m\u001b[0m\n\u001b[0;32m     68\u001b[0m         \u001b[1;32mreturn\u001b[0m \u001b[0mmodule_id\u001b[0m\u001b[1;33m\u001b[0m\u001b[1;33m\u001b[0m\u001b[0m\n",
      "\u001b[1;32m~\\Anaconda3\\lib\\site-packages\\azureml\\pipeline\\core\\_aeva_provider.py\u001b[0m in \u001b[0;36mcreate_module\u001b[1;34m(self, module_def, content_path, existing_snapshot_id, fingerprint, arguments)\u001b[0m\n\u001b[0;32m    321\u001b[0m                                                             \u001b[0mself\u001b[0m\u001b[1;33m.\u001b[0m\u001b[0m_service_caller\u001b[0m\u001b[1;33m.\u001b[0m\u001b[0mget_all_datatypes_async\u001b[0m\u001b[1;33m(\u001b[0m\u001b[1;33m)\u001b[0m\u001b[1;33m,\u001b[0m\u001b[1;33m\u001b[0m\u001b[1;33m\u001b[0m\u001b[0m\n\u001b[0;32m    322\u001b[0m                                                             \u001b[0mself\u001b[0m\u001b[1;33m.\u001b[0m\u001b[0m_module_uploader\u001b[0m\u001b[1;33m,\u001b[0m \u001b[0mcreation_fn\u001b[0m\u001b[1;33m,\u001b[0m \u001b[0mexisting_snapshot_id\u001b[0m\u001b[1;33m,\u001b[0m\u001b[1;33m\u001b[0m\u001b[1;33m\u001b[0m\u001b[0m\n\u001b[1;32m--> 323\u001b[1;33m                                                             arguments)\n\u001b[0m\u001b[0;32m    324\u001b[0m         \u001b[1;32mreturn\u001b[0m \u001b[0mmodule_entity\u001b[0m\u001b[1;33m.\u001b[0m\u001b[0mid\u001b[0m\u001b[1;33m\u001b[0m\u001b[1;33m\u001b[0m\u001b[0m\n\u001b[0;32m    325\u001b[0m \u001b[1;33m\u001b[0m\u001b[0m\n",
      "\u001b[1;32m~\\Anaconda3\\lib\\site-packages\\azureml\\pipeline\\core\\_aeva_provider.py\u001b[0m in \u001b[0;36mmodule_creation\u001b[1;34m(module_def, content_path, existing_data_types, module_uploader, creation_fn, existing_snapshot_id, arguments)\u001b[0m\n\u001b[0;32m    286\u001b[0m         \u001b[1;32mif\u001b[0m \u001b[0mcontent_path\u001b[0m \u001b[1;32mis\u001b[0m \u001b[1;32mnot\u001b[0m \u001b[1;32mNone\u001b[0m\u001b[1;33m:\u001b[0m\u001b[1;33m\u001b[0m\u001b[1;33m\u001b[0m\u001b[0m\n\u001b[0;32m    287\u001b[0m             \u001b[0mis_interface_only\u001b[0m \u001b[1;33m=\u001b[0m \u001b[1;32mFalse\u001b[0m\u001b[1;33m\u001b[0m\u001b[1;33m\u001b[0m\u001b[0m\n\u001b[1;32m--> 288\u001b[1;33m             \u001b[0mstorage_id\u001b[0m \u001b[1;33m=\u001b[0m \u001b[0mmodule_uploader\u001b[0m\u001b[1;33m.\u001b[0m\u001b[0mupload\u001b[0m\u001b[1;33m(\u001b[0m\u001b[0mdirectory\u001b[0m\u001b[1;33m=\u001b[0m\u001b[0mcontent_path\u001b[0m\u001b[1;33m)\u001b[0m\u001b[1;33m\u001b[0m\u001b[1;33m\u001b[0m\u001b[0m\n\u001b[0m\u001b[0;32m    289\u001b[0m \u001b[1;33m\u001b[0m\u001b[0m\n\u001b[0;32m    290\u001b[0m         \u001b[1;32mreturn\u001b[0m \u001b[0mcreation_fn\u001b[0m\u001b[1;33m(\u001b[0m\u001b[0minterface\u001b[0m\u001b[1;33m,\u001b[0m \u001b[0mstorage_id\u001b[0m\u001b[1;33m,\u001b[0m \u001b[0mis_interface_only\u001b[0m\u001b[1;33m)\u001b[0m\u001b[1;33m\u001b[0m\u001b[1;33m\u001b[0m\u001b[0m\n",
      "\u001b[1;32m~\\Anaconda3\\lib\\site-packages\\azureml\\pipeline\\core\\_aeva_provider.py\u001b[0m in \u001b[0;36mupload\u001b[1;34m(self, directory)\u001b[0m\n\u001b[0;32m     75\u001b[0m         \u001b[0msnapshots_client\u001b[0m \u001b[1;33m=\u001b[0m \u001b[0mSnapshotsClient\u001b[0m\u001b[1;33m(\u001b[0m\u001b[0mservice_context\u001b[0m\u001b[1;33m)\u001b[0m\u001b[1;33m\u001b[0m\u001b[1;33m\u001b[0m\u001b[0m\n\u001b[0;32m     76\u001b[0m \u001b[1;33m\u001b[0m\u001b[0m\n\u001b[1;32m---> 77\u001b[1;33m         \u001b[0mstorage_id\u001b[0m \u001b[1;33m=\u001b[0m \u001b[0msnapshots_client\u001b[0m\u001b[1;33m.\u001b[0m\u001b[0mcreate_snapshot\u001b[0m\u001b[1;33m(\u001b[0m\u001b[0mdirectory\u001b[0m\u001b[1;33m)\u001b[0m\u001b[1;33m\u001b[0m\u001b[1;33m\u001b[0m\u001b[0m\n\u001b[0m\u001b[0;32m     78\u001b[0m \u001b[1;33m\u001b[0m\u001b[0m\n\u001b[0;32m     79\u001b[0m         \u001b[1;32mreturn\u001b[0m \u001b[0mstorage_id\u001b[0m\u001b[1;33m\u001b[0m\u001b[1;33m\u001b[0m\u001b[0m\n",
      "\u001b[1;32m~\\Anaconda3\\lib\\site-packages\\azureml\\_restclient\\snapshots_client.py\u001b[0m in \u001b[0;36mcreate_snapshot\u001b[1;34m(self, file_or_folder_path, retry_on_failure, raise_on_validation_failure)\u001b[0m\n\u001b[0;32m     65\u001b[0m         \u001b[0mexclude_function\u001b[0m \u001b[1;33m=\u001b[0m \u001b[0mignore_file\u001b[0m\u001b[1;33m.\u001b[0m\u001b[0mis_file_excluded\u001b[0m\u001b[1;33m\u001b[0m\u001b[1;33m\u001b[0m\u001b[0m\n\u001b[0;32m     66\u001b[0m \u001b[1;33m\u001b[0m\u001b[0m\n\u001b[1;32m---> 67\u001b[1;33m         \u001b[0mself\u001b[0m\u001b[1;33m.\u001b[0m\u001b[0m_validate_snapshot_size\u001b[0m\u001b[1;33m(\u001b[0m\u001b[0mfile_or_folder_path\u001b[0m\u001b[1;33m,\u001b[0m \u001b[0mexclude_function\u001b[0m\u001b[1;33m,\u001b[0m \u001b[0mraise_on_validation_failure\u001b[0m\u001b[1;33m)\u001b[0m\u001b[1;33m\u001b[0m\u001b[1;33m\u001b[0m\u001b[0m\n\u001b[0m\u001b[0;32m     68\u001b[0m \u001b[1;33m\u001b[0m\u001b[0m\n\u001b[0;32m     69\u001b[0m         \u001b[1;31m# Get the previous snapshot for this project\u001b[0m\u001b[1;33m\u001b[0m\u001b[1;33m\u001b[0m\u001b[1;33m\u001b[0m\u001b[0m\n",
      "\u001b[1;32m~\\Anaconda3\\lib\\site-packages\\azureml\\_restclient\\snapshots_client.py\u001b[0m in \u001b[0;36m_validate_snapshot_size\u001b[1;34m(self, file_or_folder_path, exclude_function, raise_on_validation_failure)\u001b[0m\n\u001b[0;32m     55\u001b[0m                             \u001b[1;34m\"\\n\"\u001b[0m\u001b[1;33m.\u001b[0m\u001b[0mformat\u001b[0m\u001b[1;33m(\u001b[0m\u001b[0mfile_or_folder_path\u001b[0m\u001b[1;33m,\u001b[0m \u001b[0mSNAPSHOT_MAX_SIZE_BYTES\u001b[0m \u001b[1;33m/\u001b[0m \u001b[0mONE_MB\u001b[0m\u001b[1;33m)\u001b[0m\u001b[1;33m\u001b[0m\u001b[1;33m\u001b[0m\u001b[0m\n\u001b[0;32m     56\u001b[0m             \u001b[1;32mif\u001b[0m \u001b[0mraise_on_validation_failure\u001b[0m\u001b[1;33m:\u001b[0m\u001b[1;33m\u001b[0m\u001b[1;33m\u001b[0m\u001b[0m\n\u001b[1;32m---> 57\u001b[1;33m                 \u001b[1;32mraise\u001b[0m \u001b[0mSnapshotException\u001b[0m\u001b[1;33m(\u001b[0m\u001b[0merror_message\u001b[0m\u001b[1;33m)\u001b[0m\u001b[1;33m\u001b[0m\u001b[1;33m\u001b[0m\u001b[0m\n\u001b[0m\u001b[0;32m     58\u001b[0m             \u001b[1;32melse\u001b[0m\u001b[1;33m:\u001b[0m\u001b[1;33m\u001b[0m\u001b[1;33m\u001b[0m\u001b[0m\n\u001b[0;32m     59\u001b[0m                 \u001b[0mself\u001b[0m\u001b[1;33m.\u001b[0m\u001b[0m_logger\u001b[0m\u001b[1;33m.\u001b[0m\u001b[0mwarning\u001b[0m\u001b[1;33m(\u001b[0m\u001b[0merror_message\u001b[0m\u001b[1;33m)\u001b[0m\u001b[1;33m\u001b[0m\u001b[1;33m\u001b[0m\u001b[0m\n",
      "\u001b[1;31mSnapshotException\u001b[0m: SnapshotException:\n\tMessage: ====================================================================\n\nWhile attempting to take snapshot of ./../\nYour total snapshot size exceeds the limit of 300.0 MB.\nPlease see http://aka.ms/aml-largefiles on how to work with large files.\n\n====================================================================\n\n\n\tInnerException None\n\tErrorResponse \n{\n    \"error\": {\n        \"message\": \"====================================================================\\n\\nWhile attempting to take snapshot of ./../\\nYour total snapshot size exceeds the limit of 300.0 MB.\\nPlease see http://aka.ms/aml-largefiles on how to work with large files.\\n\\n====================================================================\\n\\n\"\n    }\n}"
     ]
    }
   ],
   "source": [
    "# Define steps in the ML pipeline\n",
    "step1 = PythonScriptStep(name=\"preprocess_step\",\n",
    "                         script_name=\"azure/preprocess_step.py\",\n",
    "                         arguments=[\"--coviddatadir\", covid_data_dr, \"--rsnadatadir\", rsna_data_dr, \"--preprocesseddir\", \n",
    "                                    processed_pd],\n",
    "                         inputs=[covid_data_dr, rsna_data_dr],\n",
    "                         outputs=[processed_pd],\n",
    "                         compute_target=compute_target, \n",
    "                         source_directory=\"./../\",\n",
    "                         runconfig=runconfig,\n",
    "                         allow_reuse=True)\n",
    "est = Estimator(source_directory='./../',\n",
    "                   script_params=None,\n",
    "                   compute_target=compute_target,\n",
    "                   entry_script='azure/train_step.py',\n",
    "                   pip_packages=['tensorflow', 'tensorboard', 'pandas', 'dill', 'numpy', 'imblearn'],\n",
    "                   pip_requirements_file='./requirements.txt')\n",
    "\n",
    "step2 = EstimatorStep(name=\"estimator_train\", \n",
    "                      estimator=est, \n",
    "                      estimator_entry_script_arguments=[\"--preprocesseddir\", processed_pd, \"--traininglogsdir\", training_logs_dr,\n",
    "                                                       \"--modelsdir\", models_dr],\n",
    "                      runconfig_pipeline_params=None, \n",
    "                      inputs=[processed_pd, training_logs_dr, models_dr], \n",
    "                      outputs=[], \n",
    "                      compute_target=compute_target)\n",
    "\n",
    "steps = [step1, step2]\n",
    "single_train_pipeline = Pipeline(workspace=ws, steps=steps)\n",
    "single_train_pipeline.validate()\n",
    "\n",
    "experiment = Experiment(ws, 'SingleTrainExperiment_v2').submit(single_train_pipeline, regenerate_outputs=False)\n",
    "print(\"Pipeline is submitted for execution\")"
   ]
  },
  {
   "cell_type": "code",
   "execution_count": null,
   "metadata": {},
   "outputs": [],
   "source": []
  }
 ],
 "metadata": {
  "kernelspec": {
   "display_name": "Python 3",
   "language": "python",
   "name": "python3"
  },
  "language_info": {
   "codemirror_mode": {
    "name": "ipython",
    "version": 3
   },
   "file_extension": ".py",
   "mimetype": "text/x-python",
   "name": "python",
   "nbconvert_exporter": "python",
   "pygments_lexer": "ipython3",
   "version": "3.7.3"
  }
 },
 "nbformat": 4,
 "nbformat_minor": 2
}
